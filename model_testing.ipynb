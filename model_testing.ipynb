{
 "cells": [
  {
   "source": [
    "# Introduction\n",
    "\n",
    "This notebook was used to optimize the prediction model. We ran grid searches with a GTX 1060 GPU in order to find the best hyperparameters, that is to say the parameters which achieved a good RMSE score on the test dataset while keeping a certain amount of error on the train dataset in order to `prevent overfitting`."
   ],
   "cell_type": "markdown",
   "metadata": {}
  },
  {
   "cell_type": "code",
   "execution_count": 2,
   "metadata": {},
   "outputs": [],
   "source": [
    "%matplotlib inline\n",
    "import os\n",
    "import time\n",
    "import importlib\n",
    "import numpy as np\n",
    "import pandas as pd\n",
    "import matplotlib.pyplot as plt\n",
    "import problem\n",
    "\n",
    "import xgboost as xgb\n",
    "from catboost import CatBoostRegressor\n",
    "\n",
    "from joblib import dump, load\n",
    "from sklearn.preprocessing import FunctionTransformer\n",
    "from sklearn.compose import make_column_transformer\n",
    "from sklearn.impute import SimpleImputer\n",
    "from sklearn.preprocessing import OrdinalEncoder, OneHotEncoder\n",
    "from sklearn.pipeline import make_pipeline\n",
    "from sklearn.decomposition import PCA\n",
    "from sklearn.model_selection import GridSearchCV\n",
    "\n",
    "\n",
    "\n",
    "\n",
    "pd.set_option('display.max_columns', None)\n",
    "\n"
   ]
  },
  {
   "source": [
    "# Model 1 : XGBoost"
   ],
   "cell_type": "markdown",
   "metadata": {}
  },
  {
   "cell_type": "code",
   "execution_count": null,
   "metadata": {},
   "outputs": [],
   "source": []
  },
  {
   "source": [
    "After trying lasso and ridge regressions, we decided to move on to random forests in order to benefit from their predictive power. We finally settled on boosted trees, which learn from previous trees compared to the random forest model. The RMSE gain was immediatly significant, with a train RMSE score going from 0.4 to 0.3 without any hyperparameters tuning.\n",
    "\n",
    "The following steps show how we used Grid Searches in order to tune those parameters."
   ],
   "cell_type": "markdown",
   "metadata": {}
  },
  {
   "cell_type": "code",
   "execution_count": 20,
   "metadata": {},
   "outputs": [],
   "source": [
    "merging_keys = ['DateOfDeparture', 'Departure', 'Arrival'] # keys to merge external_data.csv and the main data\n",
    "\n",
    "def _merge_external_data(X):\n",
    "    filepath = os.path.join(\n",
    "        'submissions', 'cat', 'external_data.csv'\n",
    "    )\n",
    "\n",
    "    filepath = 'external_data.csv'\n",
    "\n",
    "    X = X.copy()\n",
    "    X.loc[:, \"DateOfDeparture\"] = pd.to_datetime(X['DateOfDeparture'])\n",
    "    \n",
    "    # Parse date to also be of dtype datetime\n",
    "    data_w = pd.read_csv(filepath)\n",
    "    data_w.loc[:, \"DateOfDeparture\"] = pd.to_datetime(data_w['DateOfDeparture'])\n",
    "\n",
    "    X_merged = X.merge(data_w, how='left', on=['DateOfDeparture', 'Departure', 'Arrival'])\n",
    "\n",
    "    return X_merged\n",
    "\n",
    "def get_estimator():\n",
    "\n",
    "    data_merger = FunctionTransformer(_merge_external_data)\n",
    "    \n",
    "\n",
    "    date_cols = [\"DateOfDeparture\"]\n",
    "\n",
    "    categorical_encoder = make_pipeline(\n",
    "        SimpleImputer(strategy='constant', fill_value=\"missing\"),\n",
    "        OrdinalEncoder()\n",
    "    )\n",
    "    \n",
    "\n",
    "    categorical_cols = ['Arrival', 'Departure']\n",
    "\n",
    "    preprocessor = make_column_transformer(\n",
    "        (categorical_encoder, categorical_cols),\n",
    "        remainder='passthrough',  # passthrough numerical columns as they are\n",
    "    )\n",
    "\n",
    "\n",
    "    regressor = xgb.XGBRegressor(tree_method='gpu_hist', gpu_id=0, objective ='reg:squarederror', \n",
    "    eval_metric='rmse', colsample_bytree = 0.5, learning_rate = 0.05, \n",
    "    max_depth = 8, alpha = 2, n_estimators = 2500, max_leaves=10)\n",
    "\n",
    "\n",
    "    return make_pipeline(data_merger, preprocessor, regressor)"
   ]
  },
  {
   "cell_type": "code",
   "execution_count": 8,
   "metadata": {},
   "outputs": [],
   "source": [
    "X_train, y_train = problem.get_train_data()\n",
    "X_test, y_test = problem.get_test_data()\n",
    "pipeline = get_estimator()"
   ]
  },
  {
   "source": [
    "## Parameters Grid Search"
   ],
   "cell_type": "markdown",
   "metadata": {}
  },
  {
   "cell_type": "code",
   "execution_count": 9,
   "metadata": {},
   "outputs": [],
   "source": [
    "param_grid = {\n",
    "\n",
    "    'xgbregressor__max_depth': [5, 8, 10],\n",
    "    'xgbregressor__n_estimators': [2000, 5000],\n",
    "     'xgbregressor__colsample_bylevel' : [0.3, 0.5, 0.8],\n",
    "     'xgbregressor__colsample_bynode' : [0.3, 0.5, 0.8],\n",
    "     'xgbregressor__max_leaves' : [3, 5, 10, 15]\n",
    "}\n",
    "\n",
    "grid = GridSearchCV(pipeline, param_grid, cv=5, scoring='neg_mean_squared_error', verbose=10, n_jobs=2)\n"
   ]
  },
  {
   "cell_type": "code",
   "execution_count": 10,
   "metadata": {
    "tags": []
   },
   "outputs": [
    {
     "output_type": "stream",
     "name": "stdout",
     "text": [
      "Fitting 5 folds for each of 216 candidates, totalling 1080 fits\n",
      "[Parallel(n_jobs=2)]: Using backend LokyBackend with 2 concurrent workers.\n",
      "[Parallel(n_jobs=2)]: Done   1 tasks      | elapsed:   12.1s\n",
      "[Parallel(n_jobs=2)]: Done   4 tasks      | elapsed:   19.0s\n",
      "[Parallel(n_jobs=2)]: Done   9 tasks      | elapsed:   53.8s\n",
      "[Parallel(n_jobs=2)]: Done  14 tasks      | elapsed:  1.3min\n",
      "[Parallel(n_jobs=2)]: Done  21 tasks      | elapsed:  2.4min\n",
      "[Parallel(n_jobs=2)]: Done  28 tasks      | elapsed:  3.9min\n",
      "[Parallel(n_jobs=2)]: Done  37 tasks      | elapsed:  5.9min\n",
      "[Parallel(n_jobs=2)]: Done  46 tasks      | elapsed:  7.5min\n",
      "[Parallel(n_jobs=2)]: Done  57 tasks      | elapsed:  8.6min\n",
      "[Parallel(n_jobs=2)]: Done  68 tasks      | elapsed: 10.8min\n",
      "[Parallel(n_jobs=2)]: Done  81 tasks      | elapsed: 14.0min\n",
      "[Parallel(n_jobs=2)]: Done  94 tasks      | elapsed: 15.3min\n",
      "[Parallel(n_jobs=2)]: Done 109 tasks      | elapsed: 18.2min\n",
      "[Parallel(n_jobs=2)]: Done 124 tasks      | elapsed: 22.0min\n",
      "[Parallel(n_jobs=2)]: Done 141 tasks      | elapsed: 24.1min\n",
      "[Parallel(n_jobs=2)]: Done 158 tasks      | elapsed: 28.9min\n",
      "[Parallel(n_jobs=2)]: Done 177 tasks      | elapsed: 31.1min\n",
      "[Parallel(n_jobs=2)]: Done 196 tasks      | elapsed: 35.7min\n",
      "[Parallel(n_jobs=2)]: Done 217 tasks      | elapsed: 39.1min\n",
      "[Parallel(n_jobs=2)]: Done 238 tasks      | elapsed: 44.7min\n",
      "[Parallel(n_jobs=2)]: Done 261 tasks      | elapsed: 47.6min\n",
      "[Parallel(n_jobs=2)]: Done 284 tasks      | elapsed: 53.1min\n",
      "[Parallel(n_jobs=2)]: Done 309 tasks      | elapsed: 57.3min\n",
      "[Parallel(n_jobs=2)]: Done 334 tasks      | elapsed: 62.6min\n",
      "[Parallel(n_jobs=2)]: Done 361 tasks      | elapsed: 69.4min\n",
      "[Parallel(n_jobs=2)]: Done 388 tasks      | elapsed: 73.7min\n",
      "[Parallel(n_jobs=2)]: Done 417 tasks      | elapsed: 79.2min\n",
      "[Parallel(n_jobs=2)]: Done 446 tasks      | elapsed: 87.2min\n",
      "[Parallel(n_jobs=2)]: Done 477 tasks      | elapsed: 94.1min\n",
      "[Parallel(n_jobs=2)]: Done 508 tasks      | elapsed: 100.3min\n",
      "[Parallel(n_jobs=2)]: Done 541 tasks      | elapsed: 106.3min\n",
      "[Parallel(n_jobs=2)]: Done 574 tasks      | elapsed: 113.3min\n",
      "[Parallel(n_jobs=2)]: Done 609 tasks      | elapsed: 120.9min\n",
      "[Parallel(n_jobs=2)]: Done 644 tasks      | elapsed: 128.7min\n",
      "[Parallel(n_jobs=2)]: Done 681 tasks      | elapsed: 136.4min\n",
      "[Parallel(n_jobs=2)]: Done 718 tasks      | elapsed: 143.8min\n",
      "[Parallel(n_jobs=2)]: Done 757 tasks      | elapsed: 150.8min\n",
      "[Parallel(n_jobs=2)]: Done 796 tasks      | elapsed: 160.0min\n",
      "[Parallel(n_jobs=2)]: Done 837 tasks      | elapsed: 170.1min\n",
      "[Parallel(n_jobs=2)]: Done 878 tasks      | elapsed: 180.3min\n",
      "[Parallel(n_jobs=2)]: Done 921 tasks      | elapsed: 189.8min\n",
      "[Parallel(n_jobs=2)]: Done 964 tasks      | elapsed: 200.1min\n",
      "[Parallel(n_jobs=2)]: Done 1009 tasks      | elapsed: 210.9min\n",
      "[Parallel(n_jobs=2)]: Done 1054 tasks      | elapsed: 221.1min\n",
      "[Parallel(n_jobs=2)]: Done 1080 out of 1080 | elapsed: 228.8min finished\n",
      "Wall time: 3h 49min 32s\n"
     ]
    },
    {
     "output_type": "execute_result",
     "data": {
      "text/plain": [
       "GridSearchCV(cv=5,\n",
       "             estimator=Pipeline(steps=[('functiontransformer',\n",
       "                                        FunctionTransformer(func=<function _merge_external_data at 0x000001B3FE502EE0>)),\n",
       "                                       ('columntransformer',\n",
       "                                        ColumnTransformer(remainder='passthrough',\n",
       "                                                          transformers=[('functiontransformer',\n",
       "                                                                         FunctionTransformer(func=<function _encode_dates at 0x000001B3FE502820>),\n",
       "                                                                         ['DateOfDeparture']),\n",
       "                                                                        ('pipeline',\n",
       "                                                                         Pi...\n",
       "                                                     subsample=None,\n",
       "                                                     tree_method='gpu_hist',\n",
       "                                                     validate_parameters=None,\n",
       "                                                     verbosity=None))]),\n",
       "             n_jobs=2,\n",
       "             param_grid={'xgbregressor__colsample_bylevel': [0.3, 0.5, 0.8],\n",
       "                         'xgbregressor__colsample_bynode': [0.3, 0.5, 0.8],\n",
       "                         'xgbregressor__max_depth': [5, 8, 10],\n",
       "                         'xgbregressor__max_leaves': [3, 5, 10, 15],\n",
       "                         'xgbregressor__n_estimators': [2000, 5000]},\n",
       "             scoring='neg_mean_squared_error', verbose=10)"
      ]
     },
     "metadata": {},
     "execution_count": 10
    }
   ],
   "source": [
    "%%time\n",
    "grid.fit(X_train, y_train)"
   ]
  },
  {
   "cell_type": "code",
   "execution_count": 16,
   "metadata": {
    "tags": []
   },
   "outputs": [
    {
     "output_type": "stream",
     "name": "stdout",
     "text": [
      "[{'xgbregressor__colsample_bylevel': 0.3, 'xgbregressor__colsample_bynode': 0.3, 'xgbregressor__max_depth': 5, 'xgbregressor__max_leaves': 3, 'xgbregressor__n_estimators': 2000}]\n"
     ]
    }
   ],
   "source": [
    "df_res = pd.DataFrame(data = grid.cv_results_).sort_values(\"rank_test_score\")\n",
    "params = df_res.tail(1)[\"params\"].values\n",
    "print(params)\n",
    "dump(grid, 'grid_search.joblib') \n",
    "df_res.to_excel(\"grid_search_save_results.xlsx\", index=False)"
   ]
  },
  {
   "source": [
    "## PCA Grid Search "
   ],
   "cell_type": "markdown",
   "metadata": {}
  },
  {
   "cell_type": "code",
   "execution_count": 37,
   "metadata": {},
   "outputs": [],
   "source": [
    "param_grid = {\n",
    "    'pca__n_components': [4, 6, 8, 10, 12, 15, 16],\n",
    "    'xgbregressor__max_depth': [5],\n",
    "    # 'xgbregressor__n_estimators': [1000, 2000, 2500],\n",
    "    'xgbregressor__alpha' : [2],\n",
    "    'xgbregressor__learning_rate' : [0.01]\n",
    "}\n",
    "\n",
    "grid_pca = GridSearchCV(pipeline, param_grid, cv=5, scoring='neg_mean_squared_error', verbose=10, n_jobs=2)"
   ]
  },
  {
   "cell_type": "code",
   "execution_count": 25,
   "metadata": {},
   "outputs": [],
   "source": [
    "## SAUVEGARDE PCA###\n",
    "\n",
    "df_save = df_res_pca.copy()\n",
    "df_save.head()\n",
    "\n",
    "df_save.to_excel(\"grid_pca_save_result.xlsx\", index=False)\n",
    "\n"
   ]
  },
  {
   "cell_type": "code",
   "execution_count": 38,
   "metadata": {},
   "outputs": [
    {
     "output_type": "stream",
     "name": "stdout",
     "text": [
      "Fitting 5 folds for each of 7 candidates, totalling 35 fits\n",
      "[Parallel(n_jobs=2)]: Using backend LokyBackend with 2 concurrent workers.\n",
      "[Parallel(n_jobs=2)]: Done   1 tasks      | elapsed:   18.1s\n",
      "[Parallel(n_jobs=2)]: Done   4 tasks      | elapsed:   31.3s\n",
      "[Parallel(n_jobs=2)]: Done   9 tasks      | elapsed:  1.2min\n",
      "[Parallel(n_jobs=2)]: Done  14 tasks      | elapsed:  1.7min\n",
      "[Parallel(n_jobs=2)]: Done  21 tasks      | elapsed:  2.8min\n",
      "[Parallel(n_jobs=2)]: Done  28 tasks      | elapsed:  3.6min\n",
      "[Parallel(n_jobs=2)]: Done  35 out of  35 | elapsed:  4.7min finished\n",
      "Wall time: 4min 54s\n"
     ]
    },
    {
     "output_type": "execute_result",
     "data": {
      "text/plain": [
       "GridSearchCV(cv=5,\n",
       "             estimator=Pipeline(steps=[('functiontransformer',\n",
       "                                        FunctionTransformer(func=<function _merge_external_data at 0x000001E085BAEDC0>)),\n",
       "                                       ('columntransformer',\n",
       "                                        ColumnTransformer(remainder='passthrough',\n",
       "                                                          transformers=[('functiontransformer',\n",
       "                                                                         FunctionTransformer(func=<function _encode_dates at 0x000001E08658C820>),\n",
       "                                                                         ['DateOfDeparture']),\n",
       "                                                                        ('pipeline',\n",
       "                                                                         Pi...\n",
       "                                                     num_parallel_tree=1,\n",
       "                                                     random_state=0,\n",
       "                                                     reg_alpha=0, reg_lambda=1,\n",
       "                                                     scale_pos_weight=1,\n",
       "                                                     subsample=1,\n",
       "                                                     tree_method='gpu_hist',\n",
       "                                                     validate_parameters=1,\n",
       "                                                     verbosity=None))]),\n",
       "             n_jobs=2,\n",
       "             param_grid={'pca__n_components': [4, 6, 8, 10, 12, 15, 16],\n",
       "                         'xgbregressor__alpha': [2],\n",
       "                         'xgbregressor__learning_rate': [0.01],\n",
       "                         'xgbregressor__max_depth': [5]},\n",
       "             scoring='neg_mean_squared_error', verbose=10)"
      ]
     },
     "metadata": {},
     "execution_count": 38
    }
   ],
   "source": [
    "%%time\n",
    "grid_pca.fit(X, y)"
   ]
  },
  {
   "cell_type": "code",
   "execution_count": 39,
   "metadata": {},
   "outputs": [
    {
     "output_type": "stream",
     "name": "stdout",
     "text": [
      "[{'pca__n_components': 16, 'xgbregressor__alpha': 2, 'xgbregressor__learning_rate': 0.01, 'xgbregressor__max_depth': 5}]\n"
     ]
    }
   ],
   "source": [
    "df_res_pca = pd.DataFrame(data = grid_pca.cv_results_).sort_values(\"rank_test_score\")\n",
    "df_res_pca.head()\n",
    "params = df_res_pca.head(1)[\"params\"].values\n",
    "print(params)"
   ]
  },
  {
   "source": [
    "# Model 2 : CatBoost\n",
    "\n",
    "As we reached a performance plateau with the XGBoost model, we decided to try another boosted forest model, CatBoost. Its particularity lies in its ability to correctly process categorical data without any one-hot encode : this was an issue with our XGBoost model as it could not correctly process the \"Departure\" and \"Arrival\" categorical features. And a one-hot encode led to the creation of 36 distinct columns in order to correctly encode them.\n",
    "\n",
    "CatBoost also immediately led to a performance boost, as our RMSE went from 0.3 to 0.284 without a lot of hyperparameters optimization. We then ran another GridSearch in order to optimize this model."
   ],
   "cell_type": "markdown",
   "metadata": {}
  },
  {
   "cell_type": "code",
   "execution_count": 1,
   "metadata": {},
   "outputs": [],
   "source": [
    "merging_keys = ['DateOfDeparture', 'Departure', 'Arrival'] # keys to merge external_data.csv and the main data\n",
    "\n",
    "\n",
    "ext_data_predictors = [\"Frequency\", \"Delta\", \"Price\"]\n",
    "int_data_predictors = [\"WeeksToDeparture\"]\n",
    "\n",
    "all_predictors = merging_keys + ext_data_predictors + int_data_predictors\n",
    "\n",
    "def get_estimator():\n",
    "\n",
    "    data_merger = FunctionTransformer(_merge_external_data)\n",
    "    regressor = CatBoostRegressor(n_estimators=2500, colsample_bylevel=0.3, learning_rate=0.1, verbose=1000, reg_lambda=1,\n",
    "    cat_features=[\"Departure\", \"Arrival\"])\n",
    "\n",
    "\n",
    "    return make_pipeline(data_merger, regressor)"
   ]
  },
  {
   "source": [
    "## Parameters Grid Search"
   ],
   "cell_type": "markdown",
   "metadata": {}
  },
  {
   "cell_type": "code",
   "execution_count": null,
   "metadata": {},
   "outputs": [],
   "source": [
    "param_grid = {\n",
    "\n",
    "    'catboostregressor__max_depth': [5, 8, 10],\n",
    "    'catboostregressor__n_estimators': [2000, 5000],\n",
    "     'catboostregressor__colsample_bylevel' : [0.3, 0.5, 0.8],\n",
    "     'catboostregressor__colsample_bynode' : [0.3, 0.5, 0.8],\n",
    "     'catboostregressor__max_leaves' : [3, 5, 10, 15]\n",
    "}\n",
    "\n",
    "grid = GridSearchCV(pipeline, param_grid, cv=5, scoring='neg_mean_squared_error', verbose=10, n_jobs=2)"
   ]
  },
  {
   "cell_type": "code",
   "execution_count": 38,
   "metadata": {},
   "outputs": [
    {
     "output_type": "stream",
     "name": "stdout",
     "text": [
      "0:\tlearn: 0.9475478\ttotal: 21.6ms\tremaining: 54.1s\n",
      "1000:\tlearn: 0.2076822\ttotal: 24.1s\tremaining: 36s\n",
      "2000:\tlearn: 0.1458945\ttotal: 46.3s\tremaining: 11.6s\n",
      "2499:\tlearn: 0.1263888\ttotal: 57.4s\tremaining: 0us\n"
     ]
    },
    {
     "output_type": "execute_result",
     "data": {
      "text/plain": [
       "Pipeline(steps=[('functiontransformer',\n",
       "                 FunctionTransformer(func=<function _merge_external_data at 0x000001A4D948EDC0>)),\n",
       "                ('catboostregressor',\n",
       "                 <catboost.core.CatBoostRegressor object at 0x000001A4D82DA400>)])"
      ]
     },
     "metadata": {},
     "execution_count": 38
    }
   ],
   "source": [
    "data_train = pd.read_csv(\n",
    "    os.path.join('data', 'train.csv.bz2')\n",
    ")\n",
    "data_test = pd.read_csv(\n",
    "    os.path.join('data', 'test.csv.bz2')\n",
    ") \n",
    "\n",
    "\n",
    "X_train, y_train = data_train.drop(columns=[\"log_PAX\"]), data_train[\"log_PAX\"]\n",
    "\n",
    "\n",
    "pipeline = get_estimator()\n",
    "\n",
    "pipeline.fit(X_train, y_train)\n"
   ]
  },
  {
   "cell_type": "code",
   "execution_count": 39,
   "metadata": {},
   "outputs": [
    {
     "output_type": "stream",
     "name": "stdout",
     "text": [
      "[10.26108596  1.15212354  2.14518692  4.56162437  2.41268537 20.83854417\n  0.84393408  1.20907508  1.25801035  1.16768315  4.72738375  1.20705988\n  1.85972962  1.60948231  4.74652286  5.35061181  4.56844509 30.08081171]\n['DateOfDeparture', 'Departure', 'Arrival', 'WeeksToDeparture', 'std_wtd', 'Flight baseline frequentation', 'weekly_volume', 'density_departure', 'population_arrival', 'density_arrival', 'distance', 'domestic_dep_month_vol', 'internat_dep_month_vol', 'total_dep_month_vol', 'a_airlines', 'delta', 'booking', 'weekday']\n"
     ]
    },
    {
     "output_type": "display_data",
     "data": {
      "text/plain": "<Figure size 432x288 with 1 Axes>",
      "image/svg+xml": "<?xml version=\"1.0\" encoding=\"utf-8\" standalone=\"no\"?>\r\n<!DOCTYPE svg PUBLIC \"-//W3C//DTD SVG 1.1//EN\"\r\n  \"http://www.w3.org/Graphics/SVG/1.1/DTD/svg11.dtd\">\r\n<!-- Created with matplotlib (https://matplotlib.org/) -->\r\n<svg height=\"248.518125pt\" version=\"1.1\" viewBox=\"0 0 500.295312 248.518125\" width=\"500.295312pt\" xmlns=\"http://www.w3.org/2000/svg\" xmlns:xlink=\"http://www.w3.org/1999/xlink\">\r\n <metadata>\r\n  <rdf:RDF xmlns:cc=\"http://creativecommons.org/ns#\" xmlns:dc=\"http://purl.org/dc/elements/1.1/\" xmlns:rdf=\"http://www.w3.org/1999/02/22-rdf-syntax-ns#\">\r\n   <cc:Work>\r\n    <dc:type rdf:resource=\"http://purl.org/dc/dcmitype/StillImage\"/>\r\n    <dc:date>2020-12-04T21:03:52.887397</dc:date>\r\n    <dc:format>image/svg+xml</dc:format>\r\n    <dc:creator>\r\n     <cc:Agent>\r\n      <dc:title>Matplotlib v3.3.2, https://matplotlib.org/</dc:title>\r\n     </cc:Agent>\r\n    </dc:creator>\r\n   </cc:Work>\r\n  </rdf:RDF>\r\n </metadata>\r\n <defs>\r\n  <style type=\"text/css\">*{stroke-linecap:butt;stroke-linejoin:round;}</style>\r\n </defs>\r\n <g id=\"figure_1\">\r\n  <g id=\"patch_1\">\r\n   <path d=\"M 0 248.518125 \r\nL 500.295312 248.518125 \r\nL 500.295312 0 \r\nL 0 0 \r\nz\r\n\" style=\"fill:none;\"/>\r\n  </g>\r\n  <g id=\"axes_1\">\r\n   <g id=\"patch_2\">\r\n    <path d=\"M 158.295312 224.64 \r\nL 493.095312 224.64 \r\nL 493.095312 7.2 \r\nL 158.295312 7.2 \r\nz\r\n\" style=\"fill:#ffffff;\"/>\r\n   </g>\r\n   <g id=\"patch_3\">\r\n    <path clip-path=\"url(#p2562727290)\" d=\"M 158.295312 221.62 \r\nL 477.152455 221.62 \r\nL 477.152455 215.58 \r\nL 158.295312 215.58 \r\nz\r\n\" style=\"fill:#1f77b4;\"/>\r\n   </g>\r\n   <g id=\"patch_4\">\r\n    <path clip-path=\"url(#p2562727290)\" d=\"M 158.295312 209.54 \r\nL 379.184254 209.54 \r\nL 379.184254 203.5 \r\nL 158.295312 203.5 \r\nz\r\n\" style=\"fill:#1f77b4;\"/>\r\n   </g>\r\n   <g id=\"patch_5\">\r\n    <path clip-path=\"url(#p2562727290)\" d=\"M 158.295312 197.46 \r\nL 267.063007 197.46 \r\nL 267.063007 191.42 \r\nL 158.295312 191.42 \r\nz\r\n\" style=\"fill:#1f77b4;\"/>\r\n   </g>\r\n   <g id=\"patch_6\">\r\n    <path clip-path=\"url(#p2562727290)\" d=\"M 158.295312 185.38 \r\nL 215.011893 185.38 \r\nL 215.011893 179.34 \r\nL 158.295312 179.34 \r\nz\r\n\" style=\"fill:#1f77b4;\"/>\r\n   </g>\r\n   <g id=\"patch_7\">\r\n    <path clip-path=\"url(#p2562727290)\" d=\"M 158.295312 173.3 \r\nL 208.60854 173.3 \r\nL 208.60854 167.26 \r\nL 158.295312 167.26 \r\nz\r\n\" style=\"fill:#1f77b4;\"/>\r\n   </g>\r\n   <g id=\"patch_8\">\r\n    <path clip-path=\"url(#p2562727290)\" d=\"M 158.295312 161.22 \r\nL 208.405665 161.22 \r\nL 208.405665 155.18 \r\nL 158.295312 155.18 \r\nz\r\n\" style=\"fill:#1f77b4;\"/>\r\n   </g>\r\n   <g id=\"patch_9\">\r\n    <path clip-path=\"url(#p2562727290)\" d=\"M 158.295312 149.14 \r\nL 206.720912 149.14 \r\nL 206.720912 143.1 \r\nL 158.295312 143.1 \r\nz\r\n\" style=\"fill:#1f77b4;\"/>\r\n   </g>\r\n   <g id=\"patch_10\">\r\n    <path clip-path=\"url(#p2562727290)\" d=\"M 158.295312 137.06 \r\nL 206.648613 137.06 \r\nL 206.648613 131.02 \r\nL 158.295312 131.02 \r\nz\r\n\" style=\"fill:#1f77b4;\"/>\r\n   </g>\r\n   <g id=\"patch_11\">\r\n    <path clip-path=\"url(#p2562727290)\" d=\"M 158.295312 124.98 \r\nL 183.869821 124.98 \r\nL 183.869821 118.94 \r\nL 158.295312 118.94 \r\nz\r\n\" style=\"fill:#1f77b4;\"/>\r\n   </g>\r\n   <g id=\"patch_12\">\r\n    <path clip-path=\"url(#p2562727290)\" d=\"M 158.295312 112.9 \r\nL 181.034332 112.9 \r\nL 181.034332 106.86 \r\nL 158.295312 106.86 \r\nz\r\n\" style=\"fill:#1f77b4;\"/>\r\n   </g>\r\n   <g id=\"patch_13\">\r\n    <path clip-path=\"url(#p2562727290)\" d=\"M 158.295312 100.82 \r\nL 178.00848 100.82 \r\nL 178.00848 94.78 \r\nL 158.295312 94.78 \r\nz\r\n\" style=\"fill:#1f77b4;\"/>\r\n   </g>\r\n   <g id=\"patch_14\">\r\n    <path clip-path=\"url(#p2562727290)\" d=\"M 158.295312 88.74 \r\nL 175.355854 88.74 \r\nL 175.355854 82.7 \r\nL 158.295312 82.7 \r\nz\r\n\" style=\"fill:#1f77b4;\"/>\r\n   </g>\r\n   <g id=\"patch_15\">\r\n    <path clip-path=\"url(#p2562727290)\" d=\"M 158.295312 76.66 \r\nL 171.630245 76.66 \r\nL 171.630245 70.62 \r\nL 158.295312 70.62 \r\nz\r\n\" style=\"fill:#1f77b4;\"/>\r\n   </g>\r\n   <g id=\"patch_16\">\r\n    <path clip-path=\"url(#p2562727290)\" d=\"M 158.295312 64.58 \r\nL 171.11153 64.58 \r\nL 171.11153 58.54 \r\nL 158.295312 58.54 \r\nz\r\n\" style=\"fill:#1f77b4;\"/>\r\n   </g>\r\n   <g id=\"patch_17\">\r\n    <path clip-path=\"url(#p2562727290)\" d=\"M 158.295312 52.5 \r\nL 171.090169 52.5 \r\nL 171.090169 46.46 \r\nL 158.295312 46.46 \r\nz\r\n\" style=\"fill:#1f77b4;\"/>\r\n   </g>\r\n   <g id=\"patch_18\">\r\n    <path clip-path=\"url(#p2562727290)\" d=\"M 158.295312 40.42 \r\nL 170.672775 40.42 \r\nL 170.672775 34.38 \r\nL 158.295312 34.38 \r\nz\r\n\" style=\"fill:#1f77b4;\"/>\r\n   </g>\r\n   <g id=\"patch_19\">\r\n    <path clip-path=\"url(#p2562727290)\" d=\"M 158.295312 28.34 \r\nL 170.507843 28.34 \r\nL 170.507843 22.3 \r\nL 158.295312 22.3 \r\nz\r\n\" style=\"fill:#1f77b4;\"/>\r\n   </g>\r\n   <g id=\"patch_20\">\r\n    <path clip-path=\"url(#p2562727290)\" d=\"M 158.295312 16.26 \r\nL 167.241029 16.26 \r\nL 167.241029 10.22 \r\nL 158.295312 10.22 \r\nz\r\n\" style=\"fill:#1f77b4;\"/>\r\n   </g>\r\n   <g id=\"matplotlib.axis_1\">\r\n    <g id=\"xtick_1\">\r\n     <g id=\"line2d_1\">\r\n      <defs>\r\n       <path d=\"M 0 0 \r\nL 0 3.5 \r\n\" id=\"m796317a2b2\" style=\"stroke:#000000;stroke-width:0.8;\"/>\r\n      </defs>\r\n      <g>\r\n       <use style=\"stroke:#000000;stroke-width:0.8;\" x=\"158.295312\" xlink:href=\"#m796317a2b2\" y=\"224.64\"/>\r\n      </g>\r\n     </g>\r\n     <g id=\"text_1\">\r\n      <!-- 0 -->\r\n      <g transform=\"translate(155.114062 239.238437)scale(0.1 -0.1)\">\r\n       <defs>\r\n        <path d=\"M 31.78125 66.40625 \r\nQ 24.171875 66.40625 20.328125 58.90625 \r\nQ 16.5 51.421875 16.5 36.375 \r\nQ 16.5 21.390625 20.328125 13.890625 \r\nQ 24.171875 6.390625 31.78125 6.390625 \r\nQ 39.453125 6.390625 43.28125 13.890625 \r\nQ 47.125 21.390625 47.125 36.375 \r\nQ 47.125 51.421875 43.28125 58.90625 \r\nQ 39.453125 66.40625 31.78125 66.40625 \r\nz\r\nM 31.78125 74.21875 \r\nQ 44.046875 74.21875 50.515625 64.515625 \r\nQ 56.984375 54.828125 56.984375 36.375 \r\nQ 56.984375 17.96875 50.515625 8.265625 \r\nQ 44.046875 -1.421875 31.78125 -1.421875 \r\nQ 19.53125 -1.421875 13.0625 8.265625 \r\nQ 6.59375 17.96875 6.59375 36.375 \r\nQ 6.59375 54.828125 13.0625 64.515625 \r\nQ 19.53125 74.21875 31.78125 74.21875 \r\nz\r\n\" id=\"DejaVuSans-48\"/>\r\n       </defs>\r\n       <use xlink:href=\"#DejaVuSans-48\"/>\r\n      </g>\r\n     </g>\r\n    </g>\r\n    <g id=\"xtick_2\">\r\n     <g id=\"line2d_2\">\r\n      <g>\r\n       <use style=\"stroke:#000000;stroke-width:0.8;\" x=\"211.295402\" xlink:href=\"#m796317a2b2\" y=\"224.64\"/>\r\n      </g>\r\n     </g>\r\n     <g id=\"text_2\">\r\n      <!-- 5 -->\r\n      <g transform=\"translate(208.114152 239.238437)scale(0.1 -0.1)\">\r\n       <defs>\r\n        <path d=\"M 10.796875 72.90625 \r\nL 49.515625 72.90625 \r\nL 49.515625 64.59375 \r\nL 19.828125 64.59375 \r\nL 19.828125 46.734375 \r\nQ 21.96875 47.46875 24.109375 47.828125 \r\nQ 26.265625 48.1875 28.421875 48.1875 \r\nQ 40.625 48.1875 47.75 41.5 \r\nQ 54.890625 34.8125 54.890625 23.390625 \r\nQ 54.890625 11.625 47.5625 5.09375 \r\nQ 40.234375 -1.421875 26.90625 -1.421875 \r\nQ 22.3125 -1.421875 17.546875 -0.640625 \r\nQ 12.796875 0.140625 7.71875 1.703125 \r\nL 7.71875 11.625 \r\nQ 12.109375 9.234375 16.796875 8.0625 \r\nQ 21.484375 6.890625 26.703125 6.890625 \r\nQ 35.15625 6.890625 40.078125 11.328125 \r\nQ 45.015625 15.765625 45.015625 23.390625 \r\nQ 45.015625 31 40.078125 35.4375 \r\nQ 35.15625 39.890625 26.703125 39.890625 \r\nQ 22.75 39.890625 18.8125 39.015625 \r\nQ 14.890625 38.140625 10.796875 36.28125 \r\nz\r\n\" id=\"DejaVuSans-53\"/>\r\n       </defs>\r\n       <use xlink:href=\"#DejaVuSans-53\"/>\r\n      </g>\r\n     </g>\r\n    </g>\r\n    <g id=\"xtick_3\">\r\n     <g id=\"line2d_3\">\r\n      <g>\r\n       <use style=\"stroke:#000000;stroke-width:0.8;\" x=\"264.295492\" xlink:href=\"#m796317a2b2\" y=\"224.64\"/>\r\n      </g>\r\n     </g>\r\n     <g id=\"text_3\">\r\n      <!-- 10 -->\r\n      <g transform=\"translate(257.932992 239.238437)scale(0.1 -0.1)\">\r\n       <defs>\r\n        <path d=\"M 12.40625 8.296875 \r\nL 28.515625 8.296875 \r\nL 28.515625 63.921875 \r\nL 10.984375 60.40625 \r\nL 10.984375 69.390625 \r\nL 28.421875 72.90625 \r\nL 38.28125 72.90625 \r\nL 38.28125 8.296875 \r\nL 54.390625 8.296875 \r\nL 54.390625 0 \r\nL 12.40625 0 \r\nz\r\n\" id=\"DejaVuSans-49\"/>\r\n       </defs>\r\n       <use xlink:href=\"#DejaVuSans-49\"/>\r\n       <use x=\"63.623047\" xlink:href=\"#DejaVuSans-48\"/>\r\n      </g>\r\n     </g>\r\n    </g>\r\n    <g id=\"xtick_4\">\r\n     <g id=\"line2d_4\">\r\n      <g>\r\n       <use style=\"stroke:#000000;stroke-width:0.8;\" x=\"317.295581\" xlink:href=\"#m796317a2b2\" y=\"224.64\"/>\r\n      </g>\r\n     </g>\r\n     <g id=\"text_4\">\r\n      <!-- 15 -->\r\n      <g transform=\"translate(310.933081 239.238437)scale(0.1 -0.1)\">\r\n       <use xlink:href=\"#DejaVuSans-49\"/>\r\n       <use x=\"63.623047\" xlink:href=\"#DejaVuSans-53\"/>\r\n      </g>\r\n     </g>\r\n    </g>\r\n    <g id=\"xtick_5\">\r\n     <g id=\"line2d_5\">\r\n      <g>\r\n       <use style=\"stroke:#000000;stroke-width:0.8;\" x=\"370.295671\" xlink:href=\"#m796317a2b2\" y=\"224.64\"/>\r\n      </g>\r\n     </g>\r\n     <g id=\"text_5\">\r\n      <!-- 20 -->\r\n      <g transform=\"translate(363.933171 239.238437)scale(0.1 -0.1)\">\r\n       <defs>\r\n        <path d=\"M 19.1875 8.296875 \r\nL 53.609375 8.296875 \r\nL 53.609375 0 \r\nL 7.328125 0 \r\nL 7.328125 8.296875 \r\nQ 12.9375 14.109375 22.625 23.890625 \r\nQ 32.328125 33.6875 34.8125 36.53125 \r\nQ 39.546875 41.84375 41.421875 45.53125 \r\nQ 43.3125 49.21875 43.3125 52.78125 \r\nQ 43.3125 58.59375 39.234375 62.25 \r\nQ 35.15625 65.921875 28.609375 65.921875 \r\nQ 23.96875 65.921875 18.8125 64.3125 \r\nQ 13.671875 62.703125 7.8125 59.421875 \r\nL 7.8125 69.390625 \r\nQ 13.765625 71.78125 18.9375 73 \r\nQ 24.125 74.21875 28.421875 74.21875 \r\nQ 39.75 74.21875 46.484375 68.546875 \r\nQ 53.21875 62.890625 53.21875 53.421875 \r\nQ 53.21875 48.921875 51.53125 44.890625 \r\nQ 49.859375 40.875 45.40625 35.40625 \r\nQ 44.1875 33.984375 37.640625 27.21875 \r\nQ 31.109375 20.453125 19.1875 8.296875 \r\nz\r\n\" id=\"DejaVuSans-50\"/>\r\n       </defs>\r\n       <use xlink:href=\"#DejaVuSans-50\"/>\r\n       <use x=\"63.623047\" xlink:href=\"#DejaVuSans-48\"/>\r\n      </g>\r\n     </g>\r\n    </g>\r\n    <g id=\"xtick_6\">\r\n     <g id=\"line2d_6\">\r\n      <g>\r\n       <use style=\"stroke:#000000;stroke-width:0.8;\" x=\"423.29576\" xlink:href=\"#m796317a2b2\" y=\"224.64\"/>\r\n      </g>\r\n     </g>\r\n     <g id=\"text_6\">\r\n      <!-- 25 -->\r\n      <g transform=\"translate(416.93326 239.238437)scale(0.1 -0.1)\">\r\n       <use xlink:href=\"#DejaVuSans-50\"/>\r\n       <use x=\"63.623047\" xlink:href=\"#DejaVuSans-53\"/>\r\n      </g>\r\n     </g>\r\n    </g>\r\n    <g id=\"xtick_7\">\r\n     <g id=\"line2d_7\">\r\n      <g>\r\n       <use style=\"stroke:#000000;stroke-width:0.8;\" x=\"476.29585\" xlink:href=\"#m796317a2b2\" y=\"224.64\"/>\r\n      </g>\r\n     </g>\r\n     <g id=\"text_7\">\r\n      <!-- 30 -->\r\n      <g transform=\"translate(469.93335 239.238437)scale(0.1 -0.1)\">\r\n       <defs>\r\n        <path d=\"M 40.578125 39.3125 \r\nQ 47.65625 37.796875 51.625 33 \r\nQ 55.609375 28.21875 55.609375 21.1875 \r\nQ 55.609375 10.40625 48.1875 4.484375 \r\nQ 40.765625 -1.421875 27.09375 -1.421875 \r\nQ 22.515625 -1.421875 17.65625 -0.515625 \r\nQ 12.796875 0.390625 7.625 2.203125 \r\nL 7.625 11.71875 \r\nQ 11.71875 9.328125 16.59375 8.109375 \r\nQ 21.484375 6.890625 26.8125 6.890625 \r\nQ 36.078125 6.890625 40.9375 10.546875 \r\nQ 45.796875 14.203125 45.796875 21.1875 \r\nQ 45.796875 27.640625 41.28125 31.265625 \r\nQ 36.765625 34.90625 28.71875 34.90625 \r\nL 20.21875 34.90625 \r\nL 20.21875 43.015625 \r\nL 29.109375 43.015625 \r\nQ 36.375 43.015625 40.234375 45.921875 \r\nQ 44.09375 48.828125 44.09375 54.296875 \r\nQ 44.09375 59.90625 40.109375 62.90625 \r\nQ 36.140625 65.921875 28.71875 65.921875 \r\nQ 24.65625 65.921875 20.015625 65.03125 \r\nQ 15.375 64.15625 9.8125 62.3125 \r\nL 9.8125 71.09375 \r\nQ 15.4375 72.65625 20.34375 73.4375 \r\nQ 25.25 74.21875 29.59375 74.21875 \r\nQ 40.828125 74.21875 47.359375 69.109375 \r\nQ 53.90625 64.015625 53.90625 55.328125 \r\nQ 53.90625 49.265625 50.4375 45.09375 \r\nQ 46.96875 40.921875 40.578125 39.3125 \r\nz\r\n\" id=\"DejaVuSans-51\"/>\r\n       </defs>\r\n       <use xlink:href=\"#DejaVuSans-51\"/>\r\n       <use x=\"63.623047\" xlink:href=\"#DejaVuSans-48\"/>\r\n      </g>\r\n     </g>\r\n    </g>\r\n   </g>\r\n   <g id=\"matplotlib.axis_2\">\r\n    <g id=\"ytick_1\">\r\n     <g id=\"line2d_8\">\r\n      <defs>\r\n       <path d=\"M 0 0 \r\nL -3.5 0 \r\n\" id=\"m9541f6e2c6\" style=\"stroke:#000000;stroke-width:0.8;\"/>\r\n      </defs>\r\n      <g>\r\n       <use style=\"stroke:#000000;stroke-width:0.8;\" x=\"158.295312\" xlink:href=\"#m9541f6e2c6\" y=\"218.6\"/>\r\n      </g>\r\n     </g>\r\n     <g id=\"text_8\">\r\n      <!-- weekday -->\r\n      <g transform=\"translate(106.625 222.399219)scale(0.1 -0.1)\">\r\n       <defs>\r\n        <path d=\"M 4.203125 54.6875 \r\nL 13.1875 54.6875 \r\nL 24.421875 12.015625 \r\nL 35.59375 54.6875 \r\nL 46.1875 54.6875 \r\nL 57.421875 12.015625 \r\nL 68.609375 54.6875 \r\nL 77.59375 54.6875 \r\nL 63.28125 0 \r\nL 52.6875 0 \r\nL 40.921875 44.828125 \r\nL 29.109375 0 \r\nL 18.5 0 \r\nz\r\n\" id=\"DejaVuSans-119\"/>\r\n        <path d=\"M 56.203125 29.59375 \r\nL 56.203125 25.203125 \r\nL 14.890625 25.203125 \r\nQ 15.484375 15.921875 20.484375 11.0625 \r\nQ 25.484375 6.203125 34.421875 6.203125 \r\nQ 39.59375 6.203125 44.453125 7.46875 \r\nQ 49.3125 8.734375 54.109375 11.28125 \r\nL 54.109375 2.78125 \r\nQ 49.265625 0.734375 44.1875 -0.34375 \r\nQ 39.109375 -1.421875 33.890625 -1.421875 \r\nQ 20.796875 -1.421875 13.15625 6.1875 \r\nQ 5.515625 13.8125 5.515625 26.8125 \r\nQ 5.515625 40.234375 12.765625 48.109375 \r\nQ 20.015625 56 32.328125 56 \r\nQ 43.359375 56 49.78125 48.890625 \r\nQ 56.203125 41.796875 56.203125 29.59375 \r\nz\r\nM 47.21875 32.234375 \r\nQ 47.125 39.59375 43.09375 43.984375 \r\nQ 39.0625 48.390625 32.421875 48.390625 \r\nQ 24.90625 48.390625 20.390625 44.140625 \r\nQ 15.875 39.890625 15.1875 32.171875 \r\nz\r\n\" id=\"DejaVuSans-101\"/>\r\n        <path d=\"M 9.078125 75.984375 \r\nL 18.109375 75.984375 \r\nL 18.109375 31.109375 \r\nL 44.921875 54.6875 \r\nL 56.390625 54.6875 \r\nL 27.390625 29.109375 \r\nL 57.625 0 \r\nL 45.90625 0 \r\nL 18.109375 26.703125 \r\nL 18.109375 0 \r\nL 9.078125 0 \r\nz\r\n\" id=\"DejaVuSans-107\"/>\r\n        <path d=\"M 45.40625 46.390625 \r\nL 45.40625 75.984375 \r\nL 54.390625 75.984375 \r\nL 54.390625 0 \r\nL 45.40625 0 \r\nL 45.40625 8.203125 \r\nQ 42.578125 3.328125 38.25 0.953125 \r\nQ 33.9375 -1.421875 27.875 -1.421875 \r\nQ 17.96875 -1.421875 11.734375 6.484375 \r\nQ 5.515625 14.40625 5.515625 27.296875 \r\nQ 5.515625 40.1875 11.734375 48.09375 \r\nQ 17.96875 56 27.875 56 \r\nQ 33.9375 56 38.25 53.625 \r\nQ 42.578125 51.265625 45.40625 46.390625 \r\nz\r\nM 14.796875 27.296875 \r\nQ 14.796875 17.390625 18.875 11.75 \r\nQ 22.953125 6.109375 30.078125 6.109375 \r\nQ 37.203125 6.109375 41.296875 11.75 \r\nQ 45.40625 17.390625 45.40625 27.296875 \r\nQ 45.40625 37.203125 41.296875 42.84375 \r\nQ 37.203125 48.484375 30.078125 48.484375 \r\nQ 22.953125 48.484375 18.875 42.84375 \r\nQ 14.796875 37.203125 14.796875 27.296875 \r\nz\r\n\" id=\"DejaVuSans-100\"/>\r\n        <path d=\"M 34.28125 27.484375 \r\nQ 23.390625 27.484375 19.1875 25 \r\nQ 14.984375 22.515625 14.984375 16.5 \r\nQ 14.984375 11.71875 18.140625 8.90625 \r\nQ 21.296875 6.109375 26.703125 6.109375 \r\nQ 34.1875 6.109375 38.703125 11.40625 \r\nQ 43.21875 16.703125 43.21875 25.484375 \r\nL 43.21875 27.484375 \r\nz\r\nM 52.203125 31.203125 \r\nL 52.203125 0 \r\nL 43.21875 0 \r\nL 43.21875 8.296875 \r\nQ 40.140625 3.328125 35.546875 0.953125 \r\nQ 30.953125 -1.421875 24.3125 -1.421875 \r\nQ 15.921875 -1.421875 10.953125 3.296875 \r\nQ 6 8.015625 6 15.921875 \r\nQ 6 25.140625 12.171875 29.828125 \r\nQ 18.359375 34.515625 30.609375 34.515625 \r\nL 43.21875 34.515625 \r\nL 43.21875 35.40625 \r\nQ 43.21875 41.609375 39.140625 45 \r\nQ 35.0625 48.390625 27.6875 48.390625 \r\nQ 23 48.390625 18.546875 47.265625 \r\nQ 14.109375 46.140625 10.015625 43.890625 \r\nL 10.015625 52.203125 \r\nQ 14.9375 54.109375 19.578125 55.046875 \r\nQ 24.21875 56 28.609375 56 \r\nQ 40.484375 56 46.34375 49.84375 \r\nQ 52.203125 43.703125 52.203125 31.203125 \r\nz\r\n\" id=\"DejaVuSans-97\"/>\r\n        <path d=\"M 32.171875 -5.078125 \r\nQ 28.375 -14.84375 24.75 -17.8125 \r\nQ 21.140625 -20.796875 15.09375 -20.796875 \r\nL 7.90625 -20.796875 \r\nL 7.90625 -13.28125 \r\nL 13.1875 -13.28125 \r\nQ 16.890625 -13.28125 18.9375 -11.515625 \r\nQ 21 -9.765625 23.484375 -3.21875 \r\nL 25.09375 0.875 \r\nL 2.984375 54.6875 \r\nL 12.5 54.6875 \r\nL 29.59375 11.921875 \r\nL 46.6875 54.6875 \r\nL 56.203125 54.6875 \r\nz\r\n\" id=\"DejaVuSans-121\"/>\r\n       </defs>\r\n       <use xlink:href=\"#DejaVuSans-119\"/>\r\n       <use x=\"81.787109\" xlink:href=\"#DejaVuSans-101\"/>\r\n       <use x=\"143.310547\" xlink:href=\"#DejaVuSans-101\"/>\r\n       <use x=\"204.833984\" xlink:href=\"#DejaVuSans-107\"/>\r\n       <use x=\"262.744141\" xlink:href=\"#DejaVuSans-100\"/>\r\n       <use x=\"326.220703\" xlink:href=\"#DejaVuSans-97\"/>\r\n       <use x=\"387.5\" xlink:href=\"#DejaVuSans-121\"/>\r\n      </g>\r\n     </g>\r\n    </g>\r\n    <g id=\"ytick_2\">\r\n     <g id=\"line2d_9\">\r\n      <g>\r\n       <use style=\"stroke:#000000;stroke-width:0.8;\" x=\"158.295312\" xlink:href=\"#m9541f6e2c6\" y=\"206.52\"/>\r\n      </g>\r\n     </g>\r\n     <g id=\"text_9\">\r\n      <!-- Flight baseline frequentation -->\r\n      <g transform=\"translate(7.2 210.319219)scale(0.1 -0.1)\">\r\n       <defs>\r\n        <path d=\"M 9.8125 72.90625 \r\nL 51.703125 72.90625 \r\nL 51.703125 64.59375 \r\nL 19.671875 64.59375 \r\nL 19.671875 43.109375 \r\nL 48.578125 43.109375 \r\nL 48.578125 34.8125 \r\nL 19.671875 34.8125 \r\nL 19.671875 0 \r\nL 9.8125 0 \r\nz\r\n\" id=\"DejaVuSans-70\"/>\r\n        <path d=\"M 9.421875 75.984375 \r\nL 18.40625 75.984375 \r\nL 18.40625 0 \r\nL 9.421875 0 \r\nz\r\n\" id=\"DejaVuSans-108\"/>\r\n        <path d=\"M 9.421875 54.6875 \r\nL 18.40625 54.6875 \r\nL 18.40625 0 \r\nL 9.421875 0 \r\nz\r\nM 9.421875 75.984375 \r\nL 18.40625 75.984375 \r\nL 18.40625 64.59375 \r\nL 9.421875 64.59375 \r\nz\r\n\" id=\"DejaVuSans-105\"/>\r\n        <path d=\"M 45.40625 27.984375 \r\nQ 45.40625 37.75 41.375 43.109375 \r\nQ 37.359375 48.484375 30.078125 48.484375 \r\nQ 22.859375 48.484375 18.828125 43.109375 \r\nQ 14.796875 37.75 14.796875 27.984375 \r\nQ 14.796875 18.265625 18.828125 12.890625 \r\nQ 22.859375 7.515625 30.078125 7.515625 \r\nQ 37.359375 7.515625 41.375 12.890625 \r\nQ 45.40625 18.265625 45.40625 27.984375 \r\nz\r\nM 54.390625 6.78125 \r\nQ 54.390625 -7.171875 48.1875 -13.984375 \r\nQ 42 -20.796875 29.203125 -20.796875 \r\nQ 24.46875 -20.796875 20.265625 -20.09375 \r\nQ 16.0625 -19.390625 12.109375 -17.921875 \r\nL 12.109375 -9.1875 \r\nQ 16.0625 -11.328125 19.921875 -12.34375 \r\nQ 23.78125 -13.375 27.78125 -13.375 \r\nQ 36.625 -13.375 41.015625 -8.765625 \r\nQ 45.40625 -4.15625 45.40625 5.171875 \r\nL 45.40625 9.625 \r\nQ 42.625 4.78125 38.28125 2.390625 \r\nQ 33.9375 0 27.875 0 \r\nQ 17.828125 0 11.671875 7.65625 \r\nQ 5.515625 15.328125 5.515625 27.984375 \r\nQ 5.515625 40.671875 11.671875 48.328125 \r\nQ 17.828125 56 27.875 56 \r\nQ 33.9375 56 38.28125 53.609375 \r\nQ 42.625 51.21875 45.40625 46.390625 \r\nL 45.40625 54.6875 \r\nL 54.390625 54.6875 \r\nz\r\n\" id=\"DejaVuSans-103\"/>\r\n        <path d=\"M 54.890625 33.015625 \r\nL 54.890625 0 \r\nL 45.90625 0 \r\nL 45.90625 32.71875 \r\nQ 45.90625 40.484375 42.875 44.328125 \r\nQ 39.84375 48.1875 33.796875 48.1875 \r\nQ 26.515625 48.1875 22.3125 43.546875 \r\nQ 18.109375 38.921875 18.109375 30.90625 \r\nL 18.109375 0 \r\nL 9.078125 0 \r\nL 9.078125 75.984375 \r\nL 18.109375 75.984375 \r\nL 18.109375 46.1875 \r\nQ 21.34375 51.125 25.703125 53.5625 \r\nQ 30.078125 56 35.796875 56 \r\nQ 45.21875 56 50.046875 50.171875 \r\nQ 54.890625 44.34375 54.890625 33.015625 \r\nz\r\n\" id=\"DejaVuSans-104\"/>\r\n        <path d=\"M 18.3125 70.21875 \r\nL 18.3125 54.6875 \r\nL 36.8125 54.6875 \r\nL 36.8125 47.703125 \r\nL 18.3125 47.703125 \r\nL 18.3125 18.015625 \r\nQ 18.3125 11.328125 20.140625 9.421875 \r\nQ 21.96875 7.515625 27.59375 7.515625 \r\nL 36.8125 7.515625 \r\nL 36.8125 0 \r\nL 27.59375 0 \r\nQ 17.1875 0 13.234375 3.875 \r\nQ 9.28125 7.765625 9.28125 18.015625 \r\nL 9.28125 47.703125 \r\nL 2.6875 47.703125 \r\nL 2.6875 54.6875 \r\nL 9.28125 54.6875 \r\nL 9.28125 70.21875 \r\nz\r\n\" id=\"DejaVuSans-116\"/>\r\n        <path id=\"DejaVuSans-32\"/>\r\n        <path d=\"M 48.6875 27.296875 \r\nQ 48.6875 37.203125 44.609375 42.84375 \r\nQ 40.53125 48.484375 33.40625 48.484375 \r\nQ 26.265625 48.484375 22.1875 42.84375 \r\nQ 18.109375 37.203125 18.109375 27.296875 \r\nQ 18.109375 17.390625 22.1875 11.75 \r\nQ 26.265625 6.109375 33.40625 6.109375 \r\nQ 40.53125 6.109375 44.609375 11.75 \r\nQ 48.6875 17.390625 48.6875 27.296875 \r\nz\r\nM 18.109375 46.390625 \r\nQ 20.953125 51.265625 25.265625 53.625 \r\nQ 29.59375 56 35.59375 56 \r\nQ 45.5625 56 51.78125 48.09375 \r\nQ 58.015625 40.1875 58.015625 27.296875 \r\nQ 58.015625 14.40625 51.78125 6.484375 \r\nQ 45.5625 -1.421875 35.59375 -1.421875 \r\nQ 29.59375 -1.421875 25.265625 0.953125 \r\nQ 20.953125 3.328125 18.109375 8.203125 \r\nL 18.109375 0 \r\nL 9.078125 0 \r\nL 9.078125 75.984375 \r\nL 18.109375 75.984375 \r\nz\r\n\" id=\"DejaVuSans-98\"/>\r\n        <path d=\"M 44.28125 53.078125 \r\nL 44.28125 44.578125 \r\nQ 40.484375 46.53125 36.375 47.5 \r\nQ 32.28125 48.484375 27.875 48.484375 \r\nQ 21.1875 48.484375 17.84375 46.4375 \r\nQ 14.5 44.390625 14.5 40.28125 \r\nQ 14.5 37.15625 16.890625 35.375 \r\nQ 19.28125 33.59375 26.515625 31.984375 \r\nL 29.59375 31.296875 \r\nQ 39.15625 29.25 43.1875 25.515625 \r\nQ 47.21875 21.78125 47.21875 15.09375 \r\nQ 47.21875 7.46875 41.1875 3.015625 \r\nQ 35.15625 -1.421875 24.609375 -1.421875 \r\nQ 20.21875 -1.421875 15.453125 -0.5625 \r\nQ 10.6875 0.296875 5.421875 2 \r\nL 5.421875 11.28125 \r\nQ 10.40625 8.6875 15.234375 7.390625 \r\nQ 20.0625 6.109375 24.8125 6.109375 \r\nQ 31.15625 6.109375 34.5625 8.28125 \r\nQ 37.984375 10.453125 37.984375 14.40625 \r\nQ 37.984375 18.0625 35.515625 20.015625 \r\nQ 33.0625 21.96875 24.703125 23.78125 \r\nL 21.578125 24.515625 \r\nQ 13.234375 26.265625 9.515625 29.90625 \r\nQ 5.8125 33.546875 5.8125 39.890625 \r\nQ 5.8125 47.609375 11.28125 51.796875 \r\nQ 16.75 56 26.8125 56 \r\nQ 31.78125 56 36.171875 55.265625 \r\nQ 40.578125 54.546875 44.28125 53.078125 \r\nz\r\n\" id=\"DejaVuSans-115\"/>\r\n        <path d=\"M 54.890625 33.015625 \r\nL 54.890625 0 \r\nL 45.90625 0 \r\nL 45.90625 32.71875 \r\nQ 45.90625 40.484375 42.875 44.328125 \r\nQ 39.84375 48.1875 33.796875 48.1875 \r\nQ 26.515625 48.1875 22.3125 43.546875 \r\nQ 18.109375 38.921875 18.109375 30.90625 \r\nL 18.109375 0 \r\nL 9.078125 0 \r\nL 9.078125 54.6875 \r\nL 18.109375 54.6875 \r\nL 18.109375 46.1875 \r\nQ 21.34375 51.125 25.703125 53.5625 \r\nQ 30.078125 56 35.796875 56 \r\nQ 45.21875 56 50.046875 50.171875 \r\nQ 54.890625 44.34375 54.890625 33.015625 \r\nz\r\n\" id=\"DejaVuSans-110\"/>\r\n        <path d=\"M 37.109375 75.984375 \r\nL 37.109375 68.5 \r\nL 28.515625 68.5 \r\nQ 23.6875 68.5 21.796875 66.546875 \r\nQ 19.921875 64.59375 19.921875 59.515625 \r\nL 19.921875 54.6875 \r\nL 34.71875 54.6875 \r\nL 34.71875 47.703125 \r\nL 19.921875 47.703125 \r\nL 19.921875 0 \r\nL 10.890625 0 \r\nL 10.890625 47.703125 \r\nL 2.296875 47.703125 \r\nL 2.296875 54.6875 \r\nL 10.890625 54.6875 \r\nL 10.890625 58.5 \r\nQ 10.890625 67.625 15.140625 71.796875 \r\nQ 19.390625 75.984375 28.609375 75.984375 \r\nz\r\n\" id=\"DejaVuSans-102\"/>\r\n        <path d=\"M 41.109375 46.296875 \r\nQ 39.59375 47.171875 37.8125 47.578125 \r\nQ 36.03125 48 33.890625 48 \r\nQ 26.265625 48 22.1875 43.046875 \r\nQ 18.109375 38.09375 18.109375 28.8125 \r\nL 18.109375 0 \r\nL 9.078125 0 \r\nL 9.078125 54.6875 \r\nL 18.109375 54.6875 \r\nL 18.109375 46.1875 \r\nQ 20.953125 51.171875 25.484375 53.578125 \r\nQ 30.03125 56 36.53125 56 \r\nQ 37.453125 56 38.578125 55.875 \r\nQ 39.703125 55.765625 41.0625 55.515625 \r\nz\r\n\" id=\"DejaVuSans-114\"/>\r\n        <path d=\"M 14.796875 27.296875 \r\nQ 14.796875 17.390625 18.875 11.75 \r\nQ 22.953125 6.109375 30.078125 6.109375 \r\nQ 37.203125 6.109375 41.296875 11.75 \r\nQ 45.40625 17.390625 45.40625 27.296875 \r\nQ 45.40625 37.203125 41.296875 42.84375 \r\nQ 37.203125 48.484375 30.078125 48.484375 \r\nQ 22.953125 48.484375 18.875 42.84375 \r\nQ 14.796875 37.203125 14.796875 27.296875 \r\nz\r\nM 45.40625 8.203125 \r\nQ 42.578125 3.328125 38.25 0.953125 \r\nQ 33.9375 -1.421875 27.875 -1.421875 \r\nQ 17.96875 -1.421875 11.734375 6.484375 \r\nQ 5.515625 14.40625 5.515625 27.296875 \r\nQ 5.515625 40.1875 11.734375 48.09375 \r\nQ 17.96875 56 27.875 56 \r\nQ 33.9375 56 38.25 53.625 \r\nQ 42.578125 51.265625 45.40625 46.390625 \r\nL 45.40625 54.6875 \r\nL 54.390625 54.6875 \r\nL 54.390625 -20.796875 \r\nL 45.40625 -20.796875 \r\nz\r\n\" id=\"DejaVuSans-113\"/>\r\n        <path d=\"M 8.5 21.578125 \r\nL 8.5 54.6875 \r\nL 17.484375 54.6875 \r\nL 17.484375 21.921875 \r\nQ 17.484375 14.15625 20.5 10.265625 \r\nQ 23.53125 6.390625 29.59375 6.390625 \r\nQ 36.859375 6.390625 41.078125 11.03125 \r\nQ 45.3125 15.671875 45.3125 23.6875 \r\nL 45.3125 54.6875 \r\nL 54.296875 54.6875 \r\nL 54.296875 0 \r\nL 45.3125 0 \r\nL 45.3125 8.40625 \r\nQ 42.046875 3.421875 37.71875 1 \r\nQ 33.40625 -1.421875 27.6875 -1.421875 \r\nQ 18.265625 -1.421875 13.375 4.4375 \r\nQ 8.5 10.296875 8.5 21.578125 \r\nz\r\nM 31.109375 56 \r\nz\r\n\" id=\"DejaVuSans-117\"/>\r\n        <path d=\"M 30.609375 48.390625 \r\nQ 23.390625 48.390625 19.1875 42.75 \r\nQ 14.984375 37.109375 14.984375 27.296875 \r\nQ 14.984375 17.484375 19.15625 11.84375 \r\nQ 23.34375 6.203125 30.609375 6.203125 \r\nQ 37.796875 6.203125 41.984375 11.859375 \r\nQ 46.1875 17.53125 46.1875 27.296875 \r\nQ 46.1875 37.015625 41.984375 42.703125 \r\nQ 37.796875 48.390625 30.609375 48.390625 \r\nz\r\nM 30.609375 56 \r\nQ 42.328125 56 49.015625 48.375 \r\nQ 55.71875 40.765625 55.71875 27.296875 \r\nQ 55.71875 13.875 49.015625 6.21875 \r\nQ 42.328125 -1.421875 30.609375 -1.421875 \r\nQ 18.84375 -1.421875 12.171875 6.21875 \r\nQ 5.515625 13.875 5.515625 27.296875 \r\nQ 5.515625 40.765625 12.171875 48.375 \r\nQ 18.84375 56 30.609375 56 \r\nz\r\n\" id=\"DejaVuSans-111\"/>\r\n       </defs>\r\n       <use xlink:href=\"#DejaVuSans-70\"/>\r\n       <use x=\"57.519531\" xlink:href=\"#DejaVuSans-108\"/>\r\n       <use x=\"85.302734\" xlink:href=\"#DejaVuSans-105\"/>\r\n       <use x=\"113.085938\" xlink:href=\"#DejaVuSans-103\"/>\r\n       <use x=\"176.5625\" xlink:href=\"#DejaVuSans-104\"/>\r\n       <use x=\"239.941406\" xlink:href=\"#DejaVuSans-116\"/>\r\n       <use x=\"279.150391\" xlink:href=\"#DejaVuSans-32\"/>\r\n       <use x=\"310.9375\" xlink:href=\"#DejaVuSans-98\"/>\r\n       <use x=\"374.414062\" xlink:href=\"#DejaVuSans-97\"/>\r\n       <use x=\"435.693359\" xlink:href=\"#DejaVuSans-115\"/>\r\n       <use x=\"487.792969\" xlink:href=\"#DejaVuSans-101\"/>\r\n       <use x=\"549.316406\" xlink:href=\"#DejaVuSans-108\"/>\r\n       <use x=\"577.099609\" xlink:href=\"#DejaVuSans-105\"/>\r\n       <use x=\"604.882812\" xlink:href=\"#DejaVuSans-110\"/>\r\n       <use x=\"668.261719\" xlink:href=\"#DejaVuSans-101\"/>\r\n       <use x=\"729.785156\" xlink:href=\"#DejaVuSans-32\"/>\r\n       <use x=\"761.572266\" xlink:href=\"#DejaVuSans-102\"/>\r\n       <use x=\"796.777344\" xlink:href=\"#DejaVuSans-114\"/>\r\n       <use x=\"835.640625\" xlink:href=\"#DejaVuSans-101\"/>\r\n       <use x=\"897.164062\" xlink:href=\"#DejaVuSans-113\"/>\r\n       <use x=\"960.640625\" xlink:href=\"#DejaVuSans-117\"/>\r\n       <use x=\"1024.019531\" xlink:href=\"#DejaVuSans-101\"/>\r\n       <use x=\"1085.542969\" xlink:href=\"#DejaVuSans-110\"/>\r\n       <use x=\"1148.921875\" xlink:href=\"#DejaVuSans-116\"/>\r\n       <use x=\"1188.130859\" xlink:href=\"#DejaVuSans-97\"/>\r\n       <use x=\"1249.410156\" xlink:href=\"#DejaVuSans-116\"/>\r\n       <use x=\"1288.619141\" xlink:href=\"#DejaVuSans-105\"/>\r\n       <use x=\"1316.402344\" xlink:href=\"#DejaVuSans-111\"/>\r\n       <use x=\"1377.583984\" xlink:href=\"#DejaVuSans-110\"/>\r\n      </g>\r\n     </g>\r\n    </g>\r\n    <g id=\"ytick_3\">\r\n     <g id=\"line2d_10\">\r\n      <g>\r\n       <use style=\"stroke:#000000;stroke-width:0.8;\" x=\"158.295312\" xlink:href=\"#m9541f6e2c6\" y=\"194.44\"/>\r\n      </g>\r\n     </g>\r\n     <g id=\"text_10\">\r\n      <!-- DateOfDeparture -->\r\n      <g transform=\"translate(65.264062 198.239219)scale(0.1 -0.1)\">\r\n       <defs>\r\n        <path d=\"M 19.671875 64.796875 \r\nL 19.671875 8.109375 \r\nL 31.59375 8.109375 \r\nQ 46.6875 8.109375 53.6875 14.9375 \r\nQ 60.6875 21.78125 60.6875 36.53125 \r\nQ 60.6875 51.171875 53.6875 57.984375 \r\nQ 46.6875 64.796875 31.59375 64.796875 \r\nz\r\nM 9.8125 72.90625 \r\nL 30.078125 72.90625 \r\nQ 51.265625 72.90625 61.171875 64.09375 \r\nQ 71.09375 55.28125 71.09375 36.53125 \r\nQ 71.09375 17.671875 61.125 8.828125 \r\nQ 51.171875 0 30.078125 0 \r\nL 9.8125 0 \r\nz\r\n\" id=\"DejaVuSans-68\"/>\r\n        <path d=\"M 39.40625 66.21875 \r\nQ 28.65625 66.21875 22.328125 58.203125 \r\nQ 16.015625 50.203125 16.015625 36.375 \r\nQ 16.015625 22.609375 22.328125 14.59375 \r\nQ 28.65625 6.59375 39.40625 6.59375 \r\nQ 50.140625 6.59375 56.421875 14.59375 \r\nQ 62.703125 22.609375 62.703125 36.375 \r\nQ 62.703125 50.203125 56.421875 58.203125 \r\nQ 50.140625 66.21875 39.40625 66.21875 \r\nz\r\nM 39.40625 74.21875 \r\nQ 54.734375 74.21875 63.90625 63.9375 \r\nQ 73.09375 53.65625 73.09375 36.375 \r\nQ 73.09375 19.140625 63.90625 8.859375 \r\nQ 54.734375 -1.421875 39.40625 -1.421875 \r\nQ 24.03125 -1.421875 14.8125 8.828125 \r\nQ 5.609375 19.09375 5.609375 36.375 \r\nQ 5.609375 53.65625 14.8125 63.9375 \r\nQ 24.03125 74.21875 39.40625 74.21875 \r\nz\r\n\" id=\"DejaVuSans-79\"/>\r\n        <path d=\"M 18.109375 8.203125 \r\nL 18.109375 -20.796875 \r\nL 9.078125 -20.796875 \r\nL 9.078125 54.6875 \r\nL 18.109375 54.6875 \r\nL 18.109375 46.390625 \r\nQ 20.953125 51.265625 25.265625 53.625 \r\nQ 29.59375 56 35.59375 56 \r\nQ 45.5625 56 51.78125 48.09375 \r\nQ 58.015625 40.1875 58.015625 27.296875 \r\nQ 58.015625 14.40625 51.78125 6.484375 \r\nQ 45.5625 -1.421875 35.59375 -1.421875 \r\nQ 29.59375 -1.421875 25.265625 0.953125 \r\nQ 20.953125 3.328125 18.109375 8.203125 \r\nz\r\nM 48.6875 27.296875 \r\nQ 48.6875 37.203125 44.609375 42.84375 \r\nQ 40.53125 48.484375 33.40625 48.484375 \r\nQ 26.265625 48.484375 22.1875 42.84375 \r\nQ 18.109375 37.203125 18.109375 27.296875 \r\nQ 18.109375 17.390625 22.1875 11.75 \r\nQ 26.265625 6.109375 33.40625 6.109375 \r\nQ 40.53125 6.109375 44.609375 11.75 \r\nQ 48.6875 17.390625 48.6875 27.296875 \r\nz\r\n\" id=\"DejaVuSans-112\"/>\r\n       </defs>\r\n       <use xlink:href=\"#DejaVuSans-68\"/>\r\n       <use x=\"77.001953\" xlink:href=\"#DejaVuSans-97\"/>\r\n       <use x=\"138.28125\" xlink:href=\"#DejaVuSans-116\"/>\r\n       <use x=\"177.490234\" xlink:href=\"#DejaVuSans-101\"/>\r\n       <use x=\"239.013672\" xlink:href=\"#DejaVuSans-79\"/>\r\n       <use x=\"317.724609\" xlink:href=\"#DejaVuSans-102\"/>\r\n       <use x=\"352.929688\" xlink:href=\"#DejaVuSans-68\"/>\r\n       <use x=\"429.931641\" xlink:href=\"#DejaVuSans-101\"/>\r\n       <use x=\"491.455078\" xlink:href=\"#DejaVuSans-112\"/>\r\n       <use x=\"554.931641\" xlink:href=\"#DejaVuSans-97\"/>\r\n       <use x=\"616.210938\" xlink:href=\"#DejaVuSans-114\"/>\r\n       <use x=\"657.324219\" xlink:href=\"#DejaVuSans-116\"/>\r\n       <use x=\"696.533203\" xlink:href=\"#DejaVuSans-117\"/>\r\n       <use x=\"759.912109\" xlink:href=\"#DejaVuSans-114\"/>\r\n       <use x=\"798.775391\" xlink:href=\"#DejaVuSans-101\"/>\r\n      </g>\r\n     </g>\r\n    </g>\r\n    <g id=\"ytick_4\">\r\n     <g id=\"line2d_11\">\r\n      <g>\r\n       <use style=\"stroke:#000000;stroke-width:0.8;\" x=\"158.295312\" xlink:href=\"#m9541f6e2c6\" y=\"182.36\"/>\r\n      </g>\r\n     </g>\r\n     <g id=\"text_11\">\r\n      <!-- delta -->\r\n      <g transform=\"translate(125.967187 186.159219)scale(0.1 -0.1)\">\r\n       <use xlink:href=\"#DejaVuSans-100\"/>\r\n       <use x=\"63.476562\" xlink:href=\"#DejaVuSans-101\"/>\r\n       <use x=\"125\" xlink:href=\"#DejaVuSans-108\"/>\r\n       <use x=\"152.783203\" xlink:href=\"#DejaVuSans-116\"/>\r\n       <use x=\"191.992188\" xlink:href=\"#DejaVuSans-97\"/>\r\n      </g>\r\n     </g>\r\n    </g>\r\n    <g id=\"ytick_5\">\r\n     <g id=\"line2d_12\">\r\n      <g>\r\n       <use style=\"stroke:#000000;stroke-width:0.8;\" x=\"158.295312\" xlink:href=\"#m9541f6e2c6\" y=\"170.28\"/>\r\n      </g>\r\n     </g>\r\n     <g id=\"text_12\">\r\n      <!-- a_airlines -->\r\n      <g transform=\"translate(103.89375 174.079219)scale(0.1 -0.1)\">\r\n       <defs>\r\n        <path d=\"M 50.984375 -16.609375 \r\nL 50.984375 -23.578125 \r\nL -0.984375 -23.578125 \r\nL -0.984375 -16.609375 \r\nz\r\n\" id=\"DejaVuSans-95\"/>\r\n       </defs>\r\n       <use xlink:href=\"#DejaVuSans-97\"/>\r\n       <use x=\"61.279297\" xlink:href=\"#DejaVuSans-95\"/>\r\n       <use x=\"111.279297\" xlink:href=\"#DejaVuSans-97\"/>\r\n       <use x=\"172.558594\" xlink:href=\"#DejaVuSans-105\"/>\r\n       <use x=\"200.341797\" xlink:href=\"#DejaVuSans-114\"/>\r\n       <use x=\"241.455078\" xlink:href=\"#DejaVuSans-108\"/>\r\n       <use x=\"269.238281\" xlink:href=\"#DejaVuSans-105\"/>\r\n       <use x=\"297.021484\" xlink:href=\"#DejaVuSans-110\"/>\r\n       <use x=\"360.400391\" xlink:href=\"#DejaVuSans-101\"/>\r\n       <use x=\"421.923828\" xlink:href=\"#DejaVuSans-115\"/>\r\n      </g>\r\n     </g>\r\n    </g>\r\n    <g id=\"ytick_6\">\r\n     <g id=\"line2d_13\">\r\n      <g>\r\n       <use style=\"stroke:#000000;stroke-width:0.8;\" x=\"158.295312\" xlink:href=\"#m9541f6e2c6\" y=\"158.2\"/>\r\n      </g>\r\n     </g>\r\n     <g id=\"text_13\">\r\n      <!-- distance -->\r\n      <g transform=\"translate(108.921875 161.999219)scale(0.1 -0.1)\">\r\n       <defs>\r\n        <path d=\"M 48.78125 52.59375 \r\nL 48.78125 44.1875 \r\nQ 44.96875 46.296875 41.140625 47.34375 \r\nQ 37.3125 48.390625 33.40625 48.390625 \r\nQ 24.65625 48.390625 19.8125 42.84375 \r\nQ 14.984375 37.3125 14.984375 27.296875 \r\nQ 14.984375 17.28125 19.8125 11.734375 \r\nQ 24.65625 6.203125 33.40625 6.203125 \r\nQ 37.3125 6.203125 41.140625 7.25 \r\nQ 44.96875 8.296875 48.78125 10.40625 \r\nL 48.78125 2.09375 \r\nQ 45.015625 0.34375 40.984375 -0.53125 \r\nQ 36.96875 -1.421875 32.421875 -1.421875 \r\nQ 20.0625 -1.421875 12.78125 6.34375 \r\nQ 5.515625 14.109375 5.515625 27.296875 \r\nQ 5.515625 40.671875 12.859375 48.328125 \r\nQ 20.21875 56 33.015625 56 \r\nQ 37.15625 56 41.109375 55.140625 \r\nQ 45.0625 54.296875 48.78125 52.59375 \r\nz\r\n\" id=\"DejaVuSans-99\"/>\r\n       </defs>\r\n       <use xlink:href=\"#DejaVuSans-100\"/>\r\n       <use x=\"63.476562\" xlink:href=\"#DejaVuSans-105\"/>\r\n       <use x=\"91.259766\" xlink:href=\"#DejaVuSans-115\"/>\r\n       <use x=\"143.359375\" xlink:href=\"#DejaVuSans-116\"/>\r\n       <use x=\"182.568359\" xlink:href=\"#DejaVuSans-97\"/>\r\n       <use x=\"243.847656\" xlink:href=\"#DejaVuSans-110\"/>\r\n       <use x=\"307.226562\" xlink:href=\"#DejaVuSans-99\"/>\r\n       <use x=\"362.207031\" xlink:href=\"#DejaVuSans-101\"/>\r\n      </g>\r\n     </g>\r\n    </g>\r\n    <g id=\"ytick_7\">\r\n     <g id=\"line2d_14\">\r\n      <g>\r\n       <use style=\"stroke:#000000;stroke-width:0.8;\" x=\"158.295312\" xlink:href=\"#m9541f6e2c6\" y=\"146.12\"/>\r\n      </g>\r\n     </g>\r\n     <g id=\"text_14\">\r\n      <!-- booking -->\r\n      <g transform=\"translate(111.454687 149.919219)scale(0.1 -0.1)\">\r\n       <use xlink:href=\"#DejaVuSans-98\"/>\r\n       <use x=\"63.476562\" xlink:href=\"#DejaVuSans-111\"/>\r\n       <use x=\"124.658203\" xlink:href=\"#DejaVuSans-111\"/>\r\n       <use x=\"185.839844\" xlink:href=\"#DejaVuSans-107\"/>\r\n       <use x=\"243.75\" xlink:href=\"#DejaVuSans-105\"/>\r\n       <use x=\"271.533203\" xlink:href=\"#DejaVuSans-110\"/>\r\n       <use x=\"334.912109\" xlink:href=\"#DejaVuSans-103\"/>\r\n      </g>\r\n     </g>\r\n    </g>\r\n    <g id=\"ytick_8\">\r\n     <g id=\"line2d_15\">\r\n      <g>\r\n       <use style=\"stroke:#000000;stroke-width:0.8;\" x=\"158.295312\" xlink:href=\"#m9541f6e2c6\" y=\"134.04\"/>\r\n      </g>\r\n     </g>\r\n     <g id=\"text_15\">\r\n      <!-- WeeksToDeparture -->\r\n      <g transform=\"translate(57.425 137.839219)scale(0.1 -0.1)\">\r\n       <defs>\r\n        <path d=\"M 3.328125 72.90625 \r\nL 13.28125 72.90625 \r\nL 28.609375 11.28125 \r\nL 43.890625 72.90625 \r\nL 54.984375 72.90625 \r\nL 70.3125 11.28125 \r\nL 85.59375 72.90625 \r\nL 95.609375 72.90625 \r\nL 77.296875 0 \r\nL 64.890625 0 \r\nL 49.515625 63.28125 \r\nL 33.984375 0 \r\nL 21.578125 0 \r\nz\r\n\" id=\"DejaVuSans-87\"/>\r\n        <path d=\"M -0.296875 72.90625 \r\nL 61.375 72.90625 \r\nL 61.375 64.59375 \r\nL 35.5 64.59375 \r\nL 35.5 0 \r\nL 25.59375 0 \r\nL 25.59375 64.59375 \r\nL -0.296875 64.59375 \r\nz\r\n\" id=\"DejaVuSans-84\"/>\r\n       </defs>\r\n       <use xlink:href=\"#DejaVuSans-87\"/>\r\n       <use x=\"93.001953\" xlink:href=\"#DejaVuSans-101\"/>\r\n       <use x=\"154.525391\" xlink:href=\"#DejaVuSans-101\"/>\r\n       <use x=\"216.048828\" xlink:href=\"#DejaVuSans-107\"/>\r\n       <use x=\"273.958984\" xlink:href=\"#DejaVuSans-115\"/>\r\n       <use x=\"326.058594\" xlink:href=\"#DejaVuSans-84\"/>\r\n       <use x=\"370.142578\" xlink:href=\"#DejaVuSans-111\"/>\r\n       <use x=\"431.324219\" xlink:href=\"#DejaVuSans-68\"/>\r\n       <use x=\"508.326172\" xlink:href=\"#DejaVuSans-101\"/>\r\n       <use x=\"569.849609\" xlink:href=\"#DejaVuSans-112\"/>\r\n       <use x=\"633.326172\" xlink:href=\"#DejaVuSans-97\"/>\r\n       <use x=\"694.605469\" xlink:href=\"#DejaVuSans-114\"/>\r\n       <use x=\"735.71875\" xlink:href=\"#DejaVuSans-116\"/>\r\n       <use x=\"774.927734\" xlink:href=\"#DejaVuSans-117\"/>\r\n       <use x=\"838.306641\" xlink:href=\"#DejaVuSans-114\"/>\r\n       <use x=\"877.169922\" xlink:href=\"#DejaVuSans-101\"/>\r\n      </g>\r\n     </g>\r\n    </g>\r\n    <g id=\"ytick_9\">\r\n     <g id=\"line2d_16\">\r\n      <g>\r\n       <use style=\"stroke:#000000;stroke-width:0.8;\" x=\"158.295312\" xlink:href=\"#m9541f6e2c6\" y=\"121.96\"/>\r\n      </g>\r\n     </g>\r\n     <g id=\"text_16\">\r\n      <!-- std_wtd -->\r\n      <g transform=\"translate(112.370312 125.759219)scale(0.1 -0.1)\">\r\n       <use xlink:href=\"#DejaVuSans-115\"/>\r\n       <use x=\"52.099609\" xlink:href=\"#DejaVuSans-116\"/>\r\n       <use x=\"91.308594\" xlink:href=\"#DejaVuSans-100\"/>\r\n       <use x=\"154.785156\" xlink:href=\"#DejaVuSans-95\"/>\r\n       <use x=\"204.785156\" xlink:href=\"#DejaVuSans-119\"/>\r\n       <use x=\"286.572266\" xlink:href=\"#DejaVuSans-116\"/>\r\n       <use x=\"325.78125\" xlink:href=\"#DejaVuSans-100\"/>\r\n      </g>\r\n     </g>\r\n    </g>\r\n    <g id=\"ytick_10\">\r\n     <g id=\"line2d_17\">\r\n      <g>\r\n       <use style=\"stroke:#000000;stroke-width:0.8;\" x=\"158.295312\" xlink:href=\"#m9541f6e2c6\" y=\"109.88\"/>\r\n      </g>\r\n     </g>\r\n     <g id=\"text_17\">\r\n      <!-- Arrival -->\r\n      <g transform=\"translate(118.804688 113.679219)scale(0.1 -0.1)\">\r\n       <defs>\r\n        <path d=\"M 34.1875 63.1875 \r\nL 20.796875 26.90625 \r\nL 47.609375 26.90625 \r\nz\r\nM 28.609375 72.90625 \r\nL 39.796875 72.90625 \r\nL 67.578125 0 \r\nL 57.328125 0 \r\nL 50.6875 18.703125 \r\nL 17.828125 18.703125 \r\nL 11.1875 0 \r\nL 0.78125 0 \r\nz\r\n\" id=\"DejaVuSans-65\"/>\r\n        <path d=\"M 2.984375 54.6875 \r\nL 12.5 54.6875 \r\nL 29.59375 8.796875 \r\nL 46.6875 54.6875 \r\nL 56.203125 54.6875 \r\nL 35.6875 0 \r\nL 23.484375 0 \r\nz\r\n\" id=\"DejaVuSans-118\"/>\r\n       </defs>\r\n       <use xlink:href=\"#DejaVuSans-65\"/>\r\n       <use x=\"68.408203\" xlink:href=\"#DejaVuSans-114\"/>\r\n       <use x=\"107.771484\" xlink:href=\"#DejaVuSans-114\"/>\r\n       <use x=\"148.884766\" xlink:href=\"#DejaVuSans-105\"/>\r\n       <use x=\"176.667969\" xlink:href=\"#DejaVuSans-118\"/>\r\n       <use x=\"235.847656\" xlink:href=\"#DejaVuSans-97\"/>\r\n       <use x=\"297.126953\" xlink:href=\"#DejaVuSans-108\"/>\r\n      </g>\r\n     </g>\r\n    </g>\r\n    <g id=\"ytick_11\">\r\n     <g id=\"line2d_18\">\r\n      <g>\r\n       <use style=\"stroke:#000000;stroke-width:0.8;\" x=\"158.295312\" xlink:href=\"#m9541f6e2c6\" y=\"97.8\"/>\r\n      </g>\r\n     </g>\r\n     <g id=\"text_18\">\r\n      <!-- internat_dep_month_vol -->\r\n      <g transform=\"translate(30.664062 101.599219)scale(0.1 -0.1)\">\r\n       <defs>\r\n        <path d=\"M 52 44.1875 \r\nQ 55.375 50.25 60.0625 53.125 \r\nQ 64.75 56 71.09375 56 \r\nQ 79.640625 56 84.28125 50.015625 \r\nQ 88.921875 44.046875 88.921875 33.015625 \r\nL 88.921875 0 \r\nL 79.890625 0 \r\nL 79.890625 32.71875 \r\nQ 79.890625 40.578125 77.09375 44.375 \r\nQ 74.3125 48.1875 68.609375 48.1875 \r\nQ 61.625 48.1875 57.5625 43.546875 \r\nQ 53.515625 38.921875 53.515625 30.90625 \r\nL 53.515625 0 \r\nL 44.484375 0 \r\nL 44.484375 32.71875 \r\nQ 44.484375 40.625 41.703125 44.40625 \r\nQ 38.921875 48.1875 33.109375 48.1875 \r\nQ 26.21875 48.1875 22.15625 43.53125 \r\nQ 18.109375 38.875 18.109375 30.90625 \r\nL 18.109375 0 \r\nL 9.078125 0 \r\nL 9.078125 54.6875 \r\nL 18.109375 54.6875 \r\nL 18.109375 46.1875 \r\nQ 21.1875 51.21875 25.484375 53.609375 \r\nQ 29.78125 56 35.6875 56 \r\nQ 41.65625 56 45.828125 52.96875 \r\nQ 50 49.953125 52 44.1875 \r\nz\r\n\" id=\"DejaVuSans-109\"/>\r\n       </defs>\r\n       <use xlink:href=\"#DejaVuSans-105\"/>\r\n       <use x=\"27.783203\" xlink:href=\"#DejaVuSans-110\"/>\r\n       <use x=\"91.162109\" xlink:href=\"#DejaVuSans-116\"/>\r\n       <use x=\"130.371094\" xlink:href=\"#DejaVuSans-101\"/>\r\n       <use x=\"191.894531\" xlink:href=\"#DejaVuSans-114\"/>\r\n       <use x=\"231.257812\" xlink:href=\"#DejaVuSans-110\"/>\r\n       <use x=\"294.636719\" xlink:href=\"#DejaVuSans-97\"/>\r\n       <use x=\"355.916016\" xlink:href=\"#DejaVuSans-116\"/>\r\n       <use x=\"395.125\" xlink:href=\"#DejaVuSans-95\"/>\r\n       <use x=\"445.125\" xlink:href=\"#DejaVuSans-100\"/>\r\n       <use x=\"508.601562\" xlink:href=\"#DejaVuSans-101\"/>\r\n       <use x=\"570.125\" xlink:href=\"#DejaVuSans-112\"/>\r\n       <use x=\"633.601562\" xlink:href=\"#DejaVuSans-95\"/>\r\n       <use x=\"683.601562\" xlink:href=\"#DejaVuSans-109\"/>\r\n       <use x=\"781.013672\" xlink:href=\"#DejaVuSans-111\"/>\r\n       <use x=\"842.195312\" xlink:href=\"#DejaVuSans-110\"/>\r\n       <use x=\"905.574219\" xlink:href=\"#DejaVuSans-116\"/>\r\n       <use x=\"944.783203\" xlink:href=\"#DejaVuSans-104\"/>\r\n       <use x=\"1008.162109\" xlink:href=\"#DejaVuSans-95\"/>\r\n       <use x=\"1058.162109\" xlink:href=\"#DejaVuSans-118\"/>\r\n       <use x=\"1117.341797\" xlink:href=\"#DejaVuSans-111\"/>\r\n       <use x=\"1178.523438\" xlink:href=\"#DejaVuSans-108\"/>\r\n      </g>\r\n     </g>\r\n    </g>\r\n    <g id=\"ytick_12\">\r\n     <g id=\"line2d_19\">\r\n      <g>\r\n       <use style=\"stroke:#000000;stroke-width:0.8;\" x=\"158.295312\" xlink:href=\"#m9541f6e2c6\" y=\"85.72\"/>\r\n      </g>\r\n     </g>\r\n     <g id=\"text_19\">\r\n      <!-- total_dep_month_vol -->\r\n      <g transform=\"translate(47.309375 89.519219)scale(0.1 -0.1)\">\r\n       <use xlink:href=\"#DejaVuSans-116\"/>\r\n       <use x=\"39.208984\" xlink:href=\"#DejaVuSans-111\"/>\r\n       <use x=\"100.390625\" xlink:href=\"#DejaVuSans-116\"/>\r\n       <use x=\"139.599609\" xlink:href=\"#DejaVuSans-97\"/>\r\n       <use x=\"200.878906\" xlink:href=\"#DejaVuSans-108\"/>\r\n       <use x=\"228.662109\" xlink:href=\"#DejaVuSans-95\"/>\r\n       <use x=\"278.662109\" xlink:href=\"#DejaVuSans-100\"/>\r\n       <use x=\"342.138672\" xlink:href=\"#DejaVuSans-101\"/>\r\n       <use x=\"403.662109\" xlink:href=\"#DejaVuSans-112\"/>\r\n       <use x=\"467.138672\" xlink:href=\"#DejaVuSans-95\"/>\r\n       <use x=\"517.138672\" xlink:href=\"#DejaVuSans-109\"/>\r\n       <use x=\"614.550781\" xlink:href=\"#DejaVuSans-111\"/>\r\n       <use x=\"675.732422\" xlink:href=\"#DejaVuSans-110\"/>\r\n       <use x=\"739.111328\" xlink:href=\"#DejaVuSans-116\"/>\r\n       <use x=\"778.320312\" xlink:href=\"#DejaVuSans-104\"/>\r\n       <use x=\"841.699219\" xlink:href=\"#DejaVuSans-95\"/>\r\n       <use x=\"891.699219\" xlink:href=\"#DejaVuSans-118\"/>\r\n       <use x=\"950.878906\" xlink:href=\"#DejaVuSans-111\"/>\r\n       <use x=\"1012.060547\" xlink:href=\"#DejaVuSans-108\"/>\r\n      </g>\r\n     </g>\r\n    </g>\r\n    <g id=\"ytick_13\">\r\n     <g id=\"line2d_20\">\r\n      <g>\r\n       <use style=\"stroke:#000000;stroke-width:0.8;\" x=\"158.295312\" xlink:href=\"#m9541f6e2c6\" y=\"73.64\"/>\r\n      </g>\r\n     </g>\r\n     <g id=\"text_20\">\r\n      <!-- population_arrival -->\r\n      <g transform=\"translate(61.303125 77.439219)scale(0.1 -0.1)\">\r\n       <use xlink:href=\"#DejaVuSans-112\"/>\r\n       <use x=\"63.476562\" xlink:href=\"#DejaVuSans-111\"/>\r\n       <use x=\"124.658203\" xlink:href=\"#DejaVuSans-112\"/>\r\n       <use x=\"188.134766\" xlink:href=\"#DejaVuSans-117\"/>\r\n       <use x=\"251.513672\" xlink:href=\"#DejaVuSans-108\"/>\r\n       <use x=\"279.296875\" xlink:href=\"#DejaVuSans-97\"/>\r\n       <use x=\"340.576172\" xlink:href=\"#DejaVuSans-116\"/>\r\n       <use x=\"379.785156\" xlink:href=\"#DejaVuSans-105\"/>\r\n       <use x=\"407.568359\" xlink:href=\"#DejaVuSans-111\"/>\r\n       <use x=\"468.75\" xlink:href=\"#DejaVuSans-110\"/>\r\n       <use x=\"532.128906\" xlink:href=\"#DejaVuSans-95\"/>\r\n       <use x=\"582.128906\" xlink:href=\"#DejaVuSans-97\"/>\r\n       <use x=\"643.408203\" xlink:href=\"#DejaVuSans-114\"/>\r\n       <use x=\"682.771484\" xlink:href=\"#DejaVuSans-114\"/>\r\n       <use x=\"723.884766\" xlink:href=\"#DejaVuSans-105\"/>\r\n       <use x=\"751.667969\" xlink:href=\"#DejaVuSans-118\"/>\r\n       <use x=\"810.847656\" xlink:href=\"#DejaVuSans-97\"/>\r\n       <use x=\"872.126953\" xlink:href=\"#DejaVuSans-108\"/>\r\n      </g>\r\n     </g>\r\n    </g>\r\n    <g id=\"ytick_14\">\r\n     <g id=\"line2d_21\">\r\n      <g>\r\n       <use style=\"stroke:#000000;stroke-width:0.8;\" x=\"158.295312\" xlink:href=\"#m9541f6e2c6\" y=\"61.56\"/>\r\n      </g>\r\n     </g>\r\n     <g id=\"text_21\">\r\n      <!-- density_departure -->\r\n      <g transform=\"translate(60.24375 65.359219)scale(0.1 -0.1)\">\r\n       <use xlink:href=\"#DejaVuSans-100\"/>\r\n       <use x=\"63.476562\" xlink:href=\"#DejaVuSans-101\"/>\r\n       <use x=\"125\" xlink:href=\"#DejaVuSans-110\"/>\r\n       <use x=\"188.378906\" xlink:href=\"#DejaVuSans-115\"/>\r\n       <use x=\"240.478516\" xlink:href=\"#DejaVuSans-105\"/>\r\n       <use x=\"268.261719\" xlink:href=\"#DejaVuSans-116\"/>\r\n       <use x=\"307.470703\" xlink:href=\"#DejaVuSans-121\"/>\r\n       <use x=\"366.650391\" xlink:href=\"#DejaVuSans-95\"/>\r\n       <use x=\"416.650391\" xlink:href=\"#DejaVuSans-100\"/>\r\n       <use x=\"480.126953\" xlink:href=\"#DejaVuSans-101\"/>\r\n       <use x=\"541.650391\" xlink:href=\"#DejaVuSans-112\"/>\r\n       <use x=\"605.126953\" xlink:href=\"#DejaVuSans-97\"/>\r\n       <use x=\"666.40625\" xlink:href=\"#DejaVuSans-114\"/>\r\n       <use x=\"707.519531\" xlink:href=\"#DejaVuSans-116\"/>\r\n       <use x=\"746.728516\" xlink:href=\"#DejaVuSans-117\"/>\r\n       <use x=\"810.107422\" xlink:href=\"#DejaVuSans-114\"/>\r\n       <use x=\"848.970703\" xlink:href=\"#DejaVuSans-101\"/>\r\n      </g>\r\n     </g>\r\n    </g>\r\n    <g id=\"ytick_15\">\r\n     <g id=\"line2d_22\">\r\n      <g>\r\n       <use style=\"stroke:#000000;stroke-width:0.8;\" x=\"158.295312\" xlink:href=\"#m9541f6e2c6\" y=\"49.48\"/>\r\n      </g>\r\n     </g>\r\n     <g id=\"text_22\">\r\n      <!-- domestic_dep_month_vol -->\r\n      <g transform=\"translate(24.407812 53.279219)scale(0.1 -0.1)\">\r\n       <use xlink:href=\"#DejaVuSans-100\"/>\r\n       <use x=\"63.476562\" xlink:href=\"#DejaVuSans-111\"/>\r\n       <use x=\"124.658203\" xlink:href=\"#DejaVuSans-109\"/>\r\n       <use x=\"222.070312\" xlink:href=\"#DejaVuSans-101\"/>\r\n       <use x=\"283.59375\" xlink:href=\"#DejaVuSans-115\"/>\r\n       <use x=\"335.693359\" xlink:href=\"#DejaVuSans-116\"/>\r\n       <use x=\"374.902344\" xlink:href=\"#DejaVuSans-105\"/>\r\n       <use x=\"402.685547\" xlink:href=\"#DejaVuSans-99\"/>\r\n       <use x=\"457.666016\" xlink:href=\"#DejaVuSans-95\"/>\r\n       <use x=\"507.666016\" xlink:href=\"#DejaVuSans-100\"/>\r\n       <use x=\"571.142578\" xlink:href=\"#DejaVuSans-101\"/>\r\n       <use x=\"632.666016\" xlink:href=\"#DejaVuSans-112\"/>\r\n       <use x=\"696.142578\" xlink:href=\"#DejaVuSans-95\"/>\r\n       <use x=\"746.142578\" xlink:href=\"#DejaVuSans-109\"/>\r\n       <use x=\"843.554688\" xlink:href=\"#DejaVuSans-111\"/>\r\n       <use x=\"904.736328\" xlink:href=\"#DejaVuSans-110\"/>\r\n       <use x=\"968.115234\" xlink:href=\"#DejaVuSans-116\"/>\r\n       <use x=\"1007.324219\" xlink:href=\"#DejaVuSans-104\"/>\r\n       <use x=\"1070.703125\" xlink:href=\"#DejaVuSans-95\"/>\r\n       <use x=\"1120.703125\" xlink:href=\"#DejaVuSans-118\"/>\r\n       <use x=\"1179.882812\" xlink:href=\"#DejaVuSans-111\"/>\r\n       <use x=\"1241.064453\" xlink:href=\"#DejaVuSans-108\"/>\r\n      </g>\r\n     </g>\r\n    </g>\r\n    <g id=\"ytick_16\">\r\n     <g id=\"line2d_23\">\r\n      <g>\r\n       <use style=\"stroke:#000000;stroke-width:0.8;\" x=\"158.295312\" xlink:href=\"#m9541f6e2c6\" y=\"37.4\"/>\r\n      </g>\r\n     </g>\r\n     <g id=\"text_23\">\r\n      <!-- density_arrival -->\r\n      <g transform=\"translate(77.851562 41.199219)scale(0.1 -0.1)\">\r\n       <use xlink:href=\"#DejaVuSans-100\"/>\r\n       <use x=\"63.476562\" xlink:href=\"#DejaVuSans-101\"/>\r\n       <use x=\"125\" xlink:href=\"#DejaVuSans-110\"/>\r\n       <use x=\"188.378906\" xlink:href=\"#DejaVuSans-115\"/>\r\n       <use x=\"240.478516\" xlink:href=\"#DejaVuSans-105\"/>\r\n       <use x=\"268.261719\" xlink:href=\"#DejaVuSans-116\"/>\r\n       <use x=\"307.470703\" xlink:href=\"#DejaVuSans-121\"/>\r\n       <use x=\"366.650391\" xlink:href=\"#DejaVuSans-95\"/>\r\n       <use x=\"416.650391\" xlink:href=\"#DejaVuSans-97\"/>\r\n       <use x=\"477.929688\" xlink:href=\"#DejaVuSans-114\"/>\r\n       <use x=\"517.292969\" xlink:href=\"#DejaVuSans-114\"/>\r\n       <use x=\"558.40625\" xlink:href=\"#DejaVuSans-105\"/>\r\n       <use x=\"586.189453\" xlink:href=\"#DejaVuSans-118\"/>\r\n       <use x=\"645.369141\" xlink:href=\"#DejaVuSans-97\"/>\r\n       <use x=\"706.648438\" xlink:href=\"#DejaVuSans-108\"/>\r\n      </g>\r\n     </g>\r\n    </g>\r\n    <g id=\"ytick_17\">\r\n     <g id=\"line2d_24\">\r\n      <g>\r\n       <use style=\"stroke:#000000;stroke-width:0.8;\" x=\"158.295312\" xlink:href=\"#m9541f6e2c6\" y=\"25.32\"/>\r\n      </g>\r\n     </g>\r\n     <g id=\"text_24\">\r\n      <!-- Departure -->\r\n      <g transform=\"translate(100.557812 29.119219)scale(0.1 -0.1)\">\r\n       <use xlink:href=\"#DejaVuSans-68\"/>\r\n       <use x=\"77.001953\" xlink:href=\"#DejaVuSans-101\"/>\r\n       <use x=\"138.525391\" xlink:href=\"#DejaVuSans-112\"/>\r\n       <use x=\"202.001953\" xlink:href=\"#DejaVuSans-97\"/>\r\n       <use x=\"263.28125\" xlink:href=\"#DejaVuSans-114\"/>\r\n       <use x=\"304.394531\" xlink:href=\"#DejaVuSans-116\"/>\r\n       <use x=\"343.603516\" xlink:href=\"#DejaVuSans-117\"/>\r\n       <use x=\"406.982422\" xlink:href=\"#DejaVuSans-114\"/>\r\n       <use x=\"445.845703\" xlink:href=\"#DejaVuSans-101\"/>\r\n      </g>\r\n     </g>\r\n    </g>\r\n    <g id=\"ytick_18\">\r\n     <g id=\"line2d_25\">\r\n      <g>\r\n       <use style=\"stroke:#000000;stroke-width:0.8;\" x=\"158.295312\" xlink:href=\"#m9541f6e2c6\" y=\"13.24\"/>\r\n      </g>\r\n     </g>\r\n     <g id=\"text_25\">\r\n      <!-- weekly_volume -->\r\n      <g transform=\"translate(74.276562 17.039219)scale(0.1 -0.1)\">\r\n       <use xlink:href=\"#DejaVuSans-119\"/>\r\n       <use x=\"81.787109\" xlink:href=\"#DejaVuSans-101\"/>\r\n       <use x=\"143.310547\" xlink:href=\"#DejaVuSans-101\"/>\r\n       <use x=\"204.833984\" xlink:href=\"#DejaVuSans-107\"/>\r\n       <use x=\"262.744141\" xlink:href=\"#DejaVuSans-108\"/>\r\n       <use x=\"290.527344\" xlink:href=\"#DejaVuSans-121\"/>\r\n       <use x=\"349.707031\" xlink:href=\"#DejaVuSans-95\"/>\r\n       <use x=\"399.707031\" xlink:href=\"#DejaVuSans-118\"/>\r\n       <use x=\"458.886719\" xlink:href=\"#DejaVuSans-111\"/>\r\n       <use x=\"520.068359\" xlink:href=\"#DejaVuSans-108\"/>\r\n       <use x=\"547.851562\" xlink:href=\"#DejaVuSans-117\"/>\r\n       <use x=\"611.230469\" xlink:href=\"#DejaVuSans-109\"/>\r\n       <use x=\"708.642578\" xlink:href=\"#DejaVuSans-101\"/>\r\n      </g>\r\n     </g>\r\n    </g>\r\n   </g>\r\n   <g id=\"patch_21\">\r\n    <path d=\"M 158.295312 224.64 \r\nL 158.295312 7.2 \r\n\" style=\"fill:none;stroke:#000000;stroke-linecap:square;stroke-linejoin:miter;stroke-width:0.8;\"/>\r\n   </g>\r\n   <g id=\"patch_22\">\r\n    <path d=\"M 493.095312 224.64 \r\nL 493.095312 7.2 \r\n\" style=\"fill:none;stroke:#000000;stroke-linecap:square;stroke-linejoin:miter;stroke-width:0.8;\"/>\r\n   </g>\r\n   <g id=\"patch_23\">\r\n    <path d=\"M 158.295312 224.64 \r\nL 493.095312 224.64 \r\n\" style=\"fill:none;stroke:#000000;stroke-linecap:square;stroke-linejoin:miter;stroke-width:0.8;\"/>\r\n   </g>\r\n   <g id=\"patch_24\">\r\n    <path d=\"M 158.295312 7.2 \r\nL 493.095312 7.2 \r\n\" style=\"fill:none;stroke:#000000;stroke-linecap:square;stroke-linejoin:miter;stroke-width:0.8;\"/>\r\n   </g>\r\n   <g id=\"legend_1\">\r\n    <g id=\"patch_25\">\r\n     <path d=\"M 427.229687 29.878125 \r\nL 486.095312 29.878125 \r\nQ 488.095312 29.878125 488.095312 27.878125 \r\nL 488.095312 14.2 \r\nQ 488.095312 12.2 486.095312 12.2 \r\nL 427.229687 12.2 \r\nQ 425.229687 12.2 425.229687 14.2 \r\nL 425.229687 27.878125 \r\nQ 425.229687 29.878125 427.229687 29.878125 \r\nz\r\n\" style=\"fill:#ffffff;opacity:0.8;stroke:#cccccc;stroke-linejoin:miter;\"/>\r\n    </g>\r\n    <g id=\"patch_26\">\r\n     <path d=\"M 429.229687 23.798437 \r\nL 449.229687 23.798437 \r\nL 449.229687 16.798437 \r\nL 429.229687 16.798437 \r\nz\r\n\" style=\"fill:#1f77b4;\"/>\r\n    </g>\r\n    <g id=\"text_26\">\r\n     <!-- score -->\r\n     <g transform=\"translate(457.229687 23.798437)scale(0.1 -0.1)\">\r\n      <use xlink:href=\"#DejaVuSans-115\"/>\r\n      <use x=\"52.099609\" xlink:href=\"#DejaVuSans-99\"/>\r\n      <use x=\"107.080078\" xlink:href=\"#DejaVuSans-111\"/>\r\n      <use x=\"168.261719\" xlink:href=\"#DejaVuSans-114\"/>\r\n      <use x=\"207.125\" xlink:href=\"#DejaVuSans-101\"/>\r\n     </g>\r\n    </g>\r\n   </g>\r\n  </g>\r\n </g>\r\n <defs>\r\n  <clipPath id=\"p2562727290\">\r\n   <rect height=\"217.44\" width=\"334.8\" x=\"158.295312\" y=\"7.2\"/>\r\n  </clipPath>\r\n </defs>\r\n</svg>\r\n",
      "image/png": "[encoded data removed]"
     },
     "metadata": {
      "needs_background": "light"
     }
    }
   ],
   "source": [
    "os.environ[\"PATH\"] += os.pathsep + 'C:/Program Files (x86)/Graphviz/bin'\n",
    "print(pipeline[1].get_feature_importance())\n",
    "print(pipeline[1].feature_names_)\n",
    "\n",
    "feature_importance = pd.DataFrame(data=pipeline[1].get_feature_importance(), index = pipeline[1].feature_names_, columns=[\"score\"])\n",
    "feature_importance = feature_importance.sort_values(by = \"score\", ascending=False)\n",
    "feature_importance.plot(kind='barh')\n",
    "plt.savefig('features_importance.png', facecolor='w', bbox_inches='tight')"
   ]
  },
  {
   "cell_type": "code",
   "execution_count": 33,
   "metadata": {},
   "outputs": [
    {
     "output_type": "execute_result",
     "data": {
      "text/plain": [
       "'tree.png.pdf'"
      ]
     },
     "metadata": {},
     "execution_count": 33
    }
   ],
   "source": [
    "dot = pipeline[1].plot_tree(tree_idx=0)\n",
    "dot.render('tree.png', view=True) "
   ]
  }
 ],
 "metadata": {
  "kernelspec": {
   "display_name": "Python 3",
   "language": "python",
   "name": "python3"
  },
  "language_info": {
   "codemirror_mode": {
    "name": "ipython",
    "version": 3
   },
   "file_extension": ".py",
   "mimetype": "text/x-python",
   "name": "python",
   "nbconvert_exporter": "python",
   "pygments_lexer": "ipython3",
   "version": "3.8.5-final"
  }
 },
 "nbformat": 4,
 "nbformat_minor": 2
}